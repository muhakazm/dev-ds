{
 "cells": [
  {
   "cell_type": "markdown",
   "id": "ba5c5089-6cf9-42eb-9755-79fcb4b5c7dd",
   "metadata": {},
   "source": [
    "# Automatic Number Plate Recognition"
   ]
  },
  {
   "cell_type": "code",
   "execution_count": 1,
   "id": "0d278858-5d2e-4917-b3ec-4d1c1fe3666f",
   "metadata": {},
   "outputs": [],
   "source": [
    "import cv2\n",
    "import numpy as np\n",
    "import imutils\n",
    "import easyocr\n",
    "\n",
    "def process_video(file_path):\n",
    "    def draw_pointer(frame, location, text):\n",
    "        font = cv2.FONT_HERSHEY_SIMPLEX\n",
    "        cv2.putText(frame, text=text, org=(location[0][0][0], location[1][0][1] + 60),\n",
    "                    fontFace=font, fontScale=1, color=(0, 255, 0), thickness=2, lineType=cv2.LINE_AA)\n",
    "        cv2.rectangle(frame, tuple(location[0][0]), tuple(location[2][0]), (0, 255, 0), 3)\n",
    "\n",
    "    reader = easyocr.Reader(['en'])\n",
    "    cap = cv2.VideoCapture(file_path)\n",
    "\n",
    "    while cap.isOpened():\n",
    "        ret, frame = cap.read()\n",
    "        if not ret:\n",
    "            break\n",
    "\n",
    "        gray = cv2.cvtColor(frame, cv2.COLOR_BGR2GRAY)\n",
    "        bfilter = cv2.bilateralFilter(gray, 11, 17, 17)  # Noise reduction\n",
    "        edged = cv2.Canny(bfilter, 30, 200)  # Edge detection\n",
    "\n",
    "        keypoints = cv2.findContours(edged.copy(), cv2.RETR_TREE, cv2.CHAIN_APPROX_SIMPLE)\n",
    "        contours = imutils.grab_contours(keypoints)\n",
    "        contours = sorted(contours, key=cv2.contourArea, reverse=True)[:10]\n",
    "\n",
    "        location = None\n",
    "        for contour in contours:\n",
    "            approx = cv2.approxPolyDP(contour, 10, True)\n",
    "            if len(approx) == 4:\n",
    "                location = approx\n",
    "                break\n",
    "\n",
    "        if location is not None:\n",
    "            mask = np.zeros(gray.shape, np.uint8)\n",
    "            new_image = cv2.drawContours(mask, [location], 0, 255, -1)\n",
    "            new_image = cv2.bitwise_and(frame, frame, mask=mask)\n",
    "\n",
    "            (x, y) = np.where(mask == 255)\n",
    "            (x1, y1) = (np.min(x), np.min(y))\n",
    "            (x2, y2) = (np.max(x), np.max(y))\n",
    "            cropped_image = gray[x1:x2 + 1, y1:y2 + 1]\n",
    "\n",
    "            result = reader.readtext(cropped_image)\n",
    "            if result:\n",
    "                text = result[0][-2]\n",
    "                draw_pointer(frame, location, text)\n",
    "\n",
    "        cv2.imshow(\"Video Frame\", frame)\n",
    "        if cv2.waitKey(1) & 0xFF == ord('q'):\n",
    "            break\n",
    "\n",
    "    cap.release()\n",
    "    cv2.destroyAllWindows()"
   ]
  },
  {
   "cell_type": "code",
   "execution_count": 2,
   "id": "f6477153-9091-4d75-86a9-bb224d48d80c",
   "metadata": {},
   "outputs": [
    {
     "name": "stderr",
     "output_type": "stream",
     "text": [
      "Neither CUDA nor MPS are available - defaulting to CPU. Note: This module is much faster with a GPU.\n"
     ]
    }
   ],
   "source": [
    "process_video('video1.mp4')"
   ]
  },
  {
   "cell_type": "code",
   "execution_count": 3,
   "id": "d5277e0f-18a5-461d-9efb-fa103febf3c3",
   "metadata": {},
   "outputs": [],
   "source": [
    "import cv2\n",
    "import numpy as np\n",
    "import imutils\n",
    "import easyocr\n",
    "\n",
    "def process_video_alternative(file_path):\n",
    "    def draw_highlight(frame, location, text):\n",
    "        if location is not None:\n",
    "            cv2.polylines(frame, [location], isClosed=True, color=(0, 255, 0), thickness=2)\n",
    "            font = cv2.FONT_HERSHEY_SIMPLEX\n",
    "            (x, y) = location[0][0]\n",
    "            cv2.putText(frame, text, (x, y - 10), font, 0.8, (0, 255, 0), 2, cv2.LINE_AA)\n",
    "\n",
    "    reader = easyocr.Reader(['en'])\n",
    "    cap = cv2.VideoCapture(file_path)\n",
    "\n",
    "    while cap.isOpened():\n",
    "        ret, frame = cap.read()\n",
    "        if not ret:\n",
    "            break\n",
    "\n",
    "        try:\n",
    "            gray = cv2.cvtColor(frame, cv2.COLOR_BGR2GRAY)\n",
    "            bfilter = cv2.bilateralFilter(gray, 11, 17, 17)  # Noise reduction\n",
    "            edged = cv2.Canny(bfilter, 30, 200)  # Edge detection\n",
    "\n",
    "            keypoints = cv2.findContours(edged.copy(), cv2.RETR_TREE, cv2.CHAIN_APPROX_SIMPLE)\n",
    "            contours = imutils.grab_contours(keypoints)\n",
    "            contours = sorted(contours, key=cv2.contourArea, reverse=True)[:10]\n",
    "\n",
    "            location = None\n",
    "            for contour in contours:\n",
    "                approx = cv2.approxPolyDP(contour, 10, True)\n",
    "                if len(approx) == 4:\n",
    "                    location = approx\n",
    "                    break\n",
    "\n",
    "            if location is not None:\n",
    "                mask = np.zeros(gray.shape, np.uint8)\n",
    "                cv2.drawContours(mask, [location], -1, 255, -1)\n",
    "                (x, y) = np.where(mask == 255)\n",
    "                (x1, y1) = (np.min(x), np.min(y))\n",
    "                (x2, y2) = (np.max(x), np.max(y))\n",
    "                cropped_image = gray[x1:x2 + 1, y1:y2 + 1]\n",
    "\n",
    "                result = reader.readtext(cropped_image)\n",
    "                if result:\n",
    "                    text = result[0][-2]\n",
    "                    draw_highlight(frame, location, text)\n",
    "\n",
    "        except Exception as e:\n",
    "            print(f\"Error processing frame: {e}\")\n",
    "\n",
    "        cv2.imshow(\"Number Plate Detection\", frame)\n",
    "        if cv2.waitKey(1) & 0xFF == ord('q'):\n",
    "            break\n",
    "\n",
    "    cap.release()\n",
    "    cv2.destroyAllWindows()"
   ]
  },
  {
   "cell_type": "code",
   "execution_count": 6,
   "id": "b10eaf3c-763e-48d1-8412-b529fbf2981c",
   "metadata": {},
   "outputs": [
    {
     "name": "stderr",
     "output_type": "stream",
     "text": [
      "Neither CUDA nor MPS are available - defaulting to CPU. Note: This module is much faster with a GPU.\n"
     ]
    }
   ],
   "source": [
    "process_video_alternative('video3.mp4')"
   ]
  }
 ],
 "metadata": {
  "kernelspec": {
   "display_name": "python:ds-gen",
   "language": "python",
   "name": "ds-gen"
  },
  "language_info": {
   "codemirror_mode": {
    "name": "ipython",
    "version": 3
   },
   "file_extension": ".py",
   "mimetype": "text/x-python",
   "name": "python",
   "nbconvert_exporter": "python",
   "pygments_lexer": "ipython3",
   "version": "3.12.3"
  }
 },
 "nbformat": 4,
 "nbformat_minor": 5
}
