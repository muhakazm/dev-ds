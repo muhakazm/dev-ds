{
 "cells": [
  {
   "cell_type": "markdown",
   "id": "a1310e14-6c59-4389-a59a-e12c9744c2fd",
   "metadata": {},
   "source": [
    "# [King County - Predicting House Prices](https://www.kaggle.com/code/kabure/predicting-house-prices-xgb-rf-bagging-reg-pipe)\n",
    "Courtesy to Leonardo Ferreira (Kaggle)"
   ]
  },
  {
   "cell_type": "markdown",
   "id": "1f9bd55f-0872-4698-8d4a-78201206aad5",
   "metadata": {},
   "source": [
    "Online property companies offer valuations of houses using machine learning techniques. The aim of this report is to predict the house sales in King County, Washington State, USA using Multiple Linear Regression (MLR). The dataset consisted of historic data of houses sold between May 2014 to May 2015.\n",
    "We will predict the sales of houses in King County with an accuracy of at least 75-80% and understand which factors are responsible for higher property value - $650K and above.”\n",
    "\n",
    "The dataset consists of house prices from King County an area in the US State of Washington, this data also covers Seattle. The dataset was obtained from Kaggle. This data was published/released under CC0: Public Domain. Unfortunately, the user has not indicated the source of the data. Please find the citation and database description in the Glossary and Bibliography.\n",
    "The dataset consisted of 21 variables and 21613 observations."
   ]
  },
  {
   "cell_type": "code",
   "execution_count": 2,
   "id": "1b7c2f70-b317-4c03-b0d4-b26c882b3bc1",
   "metadata": {},
   "outputs": [],
   "source": [
    "import pandas as pd\n",
    "import numpy as np\n",
    "import matplotlib.pyplot as plt\n",
    "import seaborn as sns\n",
    "from matplotlib import rcParams\n",
    "import scipy.stats as st\n",
    "import os"
   ]
  },
  {
   "cell_type": "code",
   "execution_count": 4,
   "id": "b9de8d50-7086-4de3-aa9c-4b62aa041881",
   "metadata": {},
   "outputs": [],
   "source": [
    "df_usa = pd.read_csv(os.path.join('data','kc_house_data.csv'))"
   ]
  },
  {
   "cell_type": "code",
   "execution_count": 6,
   "id": "d324668b-f393-4637-8e9b-d6253399789d",
   "metadata": {},
   "outputs": [
    {
     "name": "stdout",
     "output_type": "stream",
     "text": [
      "(21613, 21)\n",
      "id               21436\n",
      "date               372\n",
      "price             4028\n",
      "bedrooms            13\n",
      "bathrooms           30\n",
      "sqft_living       1038\n",
      "sqft_lot          9782\n",
      "floors               6\n",
      "waterfront           2\n",
      "view                 5\n",
      "condition            5\n",
      "grade               12\n",
      "sqft_above         946\n",
      "sqft_basement      306\n",
      "yr_built           116\n",
      "yr_renovated        70\n",
      "zipcode             70\n",
      "lat               5034\n",
      "long               752\n",
      "sqft_living15      777\n",
      "sqft_lot15        8689\n",
      "dtype: int64\n"
     ]
    }
   ],
   "source": [
    "print(df_usa.shape)\n",
    "print(df_usa.nunique())"
   ]
  }
 ],
 "metadata": {
  "kernelspec": {
   "display_name": "python:ds-gen",
   "language": "python",
   "name": "ds-gen"
  },
  "language_info": {
   "codemirror_mode": {
    "name": "ipython",
    "version": 3
   },
   "file_extension": ".py",
   "mimetype": "text/x-python",
   "name": "python",
   "nbconvert_exporter": "python",
   "pygments_lexer": "ipython3",
   "version": "3.12.3"
  }
 },
 "nbformat": 4,
 "nbformat_minor": 5
}
