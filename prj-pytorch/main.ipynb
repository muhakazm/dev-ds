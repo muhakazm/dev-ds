{
 "cells": [
  {
   "cell_type": "markdown",
   "id": "932d5b49-a321-41eb-b4e1-3f7c27e3874f",
   "metadata": {},
   "source": [
    "# [Deep Learning with Pytorch](https://www.youtube.com/watch?v=V_xro1bcAuA)\n",
    "Courtesy to:\n",
    "- FreeCodeCamp\n",
    "- Daniel Bourke (YT: @mrdbourke)"
   ]
  },
  {
   "cell_type": "markdown",
   "id": "5b78fa71-af9e-4477-88db-03f0ef3f342f",
   "metadata": {},
   "source": [
    "to continue: 46:11 (started to talk about pytorch)"
   ]
  }
 ],
 "metadata": {
  "kernelspec": {
   "display_name": "python:ds-gen",
   "language": "python",
   "name": "ds-gen"
  },
  "language_info": {
   "codemirror_mode": {
    "name": "ipython",
    "version": 3
   },
   "file_extension": ".py",
   "mimetype": "text/x-python",
   "name": "python",
   "nbconvert_exporter": "python",
   "pygments_lexer": "ipython3",
   "version": "3.12.3"
  }
 },
 "nbformat": 4,
 "nbformat_minor": 5
}
