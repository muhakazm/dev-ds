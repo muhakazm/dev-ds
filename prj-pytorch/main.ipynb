{
 "cells": [
  {
   "cell_type": "markdown",
   "id": "932d5b49-a321-41eb-b4e1-3f7c27e3874f",
   "metadata": {},
   "source": [
    "# [Deep Learning with Pytorch](https://www.youtube.com/watch?v=V_xro1bcAuA)\n",
    "Courtesy to:\n",
    "- FreeCodeCamp\n",
    "- Daniel Bourke (YT: @mrdbourke)\n",
    "- [D Bourke GitHub](https://github.com/mrdbourke/pytorch-deep-learning)\n",
    "- [Learn PyTorch](https://www.learnpytorch.io/)"
   ]
  },
  {
   "cell_type": "code",
   "execution_count": 2,
   "id": "7c59d784-5552-4466-a140-89eed7d31ecb",
   "metadata": {},
   "outputs": [],
   "source": [
    "import torch"
   ]
  },
  {
   "cell_type": "code",
   "execution_count": 3,
   "id": "6b681cda-e72e-4e91-81f3-f5e0f429bc50",
   "metadata": {},
   "outputs": [
    {
     "data": {
      "text/plain": [
       "tensor(7)"
      ]
     },
     "execution_count": 3,
     "metadata": {},
     "output_type": "execute_result"
    }
   ],
   "source": [
    "# scalar\n",
    "scalar = torch.tensor(7)\n",
    "scalar"
   ]
  },
  {
   "cell_type": "code",
   "execution_count": 4,
   "id": "e07fb3a7-f733-49e5-b921-e87ec4a45be1",
   "metadata": {},
   "outputs": [
    {
     "data": {
      "text/plain": [
       "0"
      ]
     },
     "execution_count": 4,
     "metadata": {},
     "output_type": "execute_result"
    }
   ],
   "source": [
    "scalar.ndim"
   ]
  },
  {
   "cell_type": "code",
   "execution_count": 5,
   "id": "1815a52b-5799-489d-9bc3-277cd5b1e3bf",
   "metadata": {},
   "outputs": [
    {
     "data": {
      "text/plain": [
       "7"
      ]
     },
     "execution_count": 5,
     "metadata": {},
     "output_type": "execute_result"
    }
   ],
   "source": [
    "# get tensor back as Python int\n",
    "scalar.item()"
   ]
  },
  {
   "cell_type": "code",
   "execution_count": 6,
   "id": "ed68699a-ca79-400b-b3ad-dec843ce5d17",
   "metadata": {},
   "outputs": [
    {
     "data": {
      "text/plain": [
       "tensor([7, 7])"
      ]
     },
     "execution_count": 6,
     "metadata": {},
     "output_type": "execute_result"
    }
   ],
   "source": [
    "# vector\n",
    "vector = torch.tensor([7, 7])\n",
    "vector"
   ]
  },
  {
   "cell_type": "code",
   "execution_count": 7,
   "id": "05170524-33ee-49cf-923f-516e016afef1",
   "metadata": {},
   "outputs": [
    {
     "data": {
      "text/plain": [
       "1"
      ]
     },
     "execution_count": 7,
     "metadata": {},
     "output_type": "execute_result"
    }
   ],
   "source": [
    "vector.ndim"
   ]
  },
  {
   "cell_type": "code",
   "execution_count": 8,
   "id": "e40e58fb-9c59-49b8-876d-6579a14e2a92",
   "metadata": {},
   "outputs": [
    {
     "data": {
      "text/plain": [
       "torch.Size([2])"
      ]
     },
     "execution_count": 8,
     "metadata": {},
     "output_type": "execute_result"
    }
   ],
   "source": [
    "vector.shape"
   ]
  },
  {
   "cell_type": "code",
   "execution_count": 9,
   "id": "df12fe02-6737-402c-a112-85804f51222c",
   "metadata": {},
   "outputs": [
    {
     "data": {
      "text/plain": [
       "tensor([[ 7,  8],\n",
       "        [ 9, 10]])"
      ]
     },
     "execution_count": 9,
     "metadata": {},
     "output_type": "execute_result"
    }
   ],
   "source": [
    "# MATRIX\n",
    "MATRIX = torch.tensor([[7, 8],\n",
    "                      [9, 10]])\n",
    "MATRIX"
   ]
  },
  {
   "cell_type": "code",
   "execution_count": 18,
   "id": "0f2a5aa0-c0dd-4b8b-8b8d-868476a65650",
   "metadata": {},
   "outputs": [
    {
     "data": {
      "text/plain": [
       "2"
      ]
     },
     "execution_count": 18,
     "metadata": {},
     "output_type": "execute_result"
    }
   ],
   "source": [
    "MATRIX.ndim"
   ]
  },
  {
   "cell_type": "code",
   "execution_count": 20,
   "id": "510e3194-5fa8-4cd3-a718-93adc0ebeca0",
   "metadata": {},
   "outputs": [
    {
     "data": {
      "text/plain": [
       "tensor([7, 8])"
      ]
     },
     "execution_count": 20,
     "metadata": {},
     "output_type": "execute_result"
    }
   ],
   "source": [
    "MATRIX[0]"
   ]
  },
  {
   "cell_type": "code",
   "execution_count": 22,
   "id": "28792417-99a0-47ea-abf7-0bf682e31e7d",
   "metadata": {},
   "outputs": [
    {
     "data": {
      "text/plain": [
       "torch.Size([2, 2])"
      ]
     },
     "execution_count": 22,
     "metadata": {},
     "output_type": "execute_result"
    }
   ],
   "source": [
    "MATRIX.shape"
   ]
  },
  {
   "cell_type": "code",
   "execution_count": 26,
   "id": "8283803b-47dc-4e95-9835-2dce8c66b878",
   "metadata": {},
   "outputs": [
    {
     "data": {
      "text/plain": [
       "tensor([[[  1,   2,   3],\n",
       "         [ 11,  22,  33],\n",
       "         [111, 222, 333]]])"
      ]
     },
     "execution_count": 26,
     "metadata": {},
     "output_type": "execute_result"
    }
   ],
   "source": [
    "# TENSOR # 3 square brackets pairs\n",
    "TENSOR = torch.tensor([[[1, 2, 3]\n",
    "                       ,[11, 22, 33]\n",
    "                       ,[111, 222, 333]]])\n",
    "TENSOR"
   ]
  },
  {
   "cell_type": "code",
   "execution_count": 28,
   "id": "4fdbc0f8-bd9f-45f9-9790-37fe06f5f2dc",
   "metadata": {},
   "outputs": [
    {
     "data": {
      "text/plain": [
       "3"
      ]
     },
     "execution_count": 28,
     "metadata": {},
     "output_type": "execute_result"
    }
   ],
   "source": [
    "TENSOR.ndim"
   ]
  },
  {
   "cell_type": "code",
   "execution_count": 30,
   "id": "9992a896-19c5-4894-9902-c7e0b903db57",
   "metadata": {},
   "outputs": [
    {
     "data": {
      "text/plain": [
       "torch.Size([1, 3, 3])"
      ]
     },
     "execution_count": 30,
     "metadata": {},
     "output_type": "execute_result"
    }
   ],
   "source": [
    "TENSOR.shape"
   ]
  },
  {
   "cell_type": "code",
   "execution_count": 36,
   "id": "eea9e9dc-7445-482b-a72a-35fe31c00311",
   "metadata": {},
   "outputs": [
    {
     "data": {
      "text/plain": [
       "tensor([[  1,   2,   3],\n",
       "        [ 11,  22,  33],\n",
       "        [111, 222, 333]])"
      ]
     },
     "execution_count": 36,
     "metadata": {},
     "output_type": "execute_result"
    }
   ],
   "source": [
    "TENSOR[0]"
   ]
  },
  {
   "cell_type": "code",
   "execution_count": 46,
   "id": "287a048f-d683-43ee-ba71-0a8afafae39a",
   "metadata": {},
   "outputs": [],
   "source": [
    "TENSOR_2 = torch.tensor([[[1, 2, 3]\n",
    "                       ,[11, 22, 33]\n",
    "                       ,[111, 222, 333]]\n",
    "                        , [[4, 5, 6]\n",
    "                       ,[44, 55, 66]\n",
    "                       ,[444, 555, 666]]])"
   ]
  },
  {
   "cell_type": "code",
   "execution_count": 48,
   "id": "1969b85f-953d-4ff4-9f7a-c88c4b074d2c",
   "metadata": {},
   "outputs": [
    {
     "data": {
      "text/plain": [
       "3"
      ]
     },
     "execution_count": 48,
     "metadata": {},
     "output_type": "execute_result"
    }
   ],
   "source": [
    "TENSOR_2.ndim"
   ]
  },
  {
   "cell_type": "code",
   "execution_count": 50,
   "id": "742902a3-84b3-4c0d-a86d-dce513ae42c0",
   "metadata": {},
   "outputs": [
    {
     "data": {
      "text/plain": [
       "torch.Size([2, 3, 3])"
      ]
     },
     "execution_count": 50,
     "metadata": {},
     "output_type": "execute_result"
    }
   ],
   "source": [
    "TENSOR_2.shape"
   ]
  },
  {
   "cell_type": "code",
   "execution_count": 58,
   "id": "cf269791-c645-460f-b1ac-d6d1e0cbe933",
   "metadata": {},
   "outputs": [
    {
     "data": {
      "text/plain": [
       "tensor([[  4,   5,   6],\n",
       "        [ 44,  55,  66],\n",
       "        [444, 555, 666]])"
      ]
     },
     "execution_count": 58,
     "metadata": {},
     "output_type": "execute_result"
    }
   ],
   "source": [
    "TENSOR_2[1]"
   ]
  }
 ],
 "metadata": {
  "kernelspec": {
   "display_name": "python:ds-gen",
   "language": "python",
   "name": "ds-gen"
  },
  "language_info": {
   "codemirror_mode": {
    "name": "ipython",
    "version": 3
   },
   "file_extension": ".py",
   "mimetype": "text/x-python",
   "name": "python",
   "nbconvert_exporter": "python",
   "pygments_lexer": "ipython3",
   "version": "3.12.3"
  }
 },
 "nbformat": 4,
 "nbformat_minor": 5
}
