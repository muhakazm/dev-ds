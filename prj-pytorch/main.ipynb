{
 "cells": [
  {
   "cell_type": "markdown",
   "id": "932d5b49-a321-41eb-b4e1-3f7c27e3874f",
   "metadata": {},
   "source": [
    "# [Deep Learning with Pytorch](https://www.youtube.com/watch?v=V_xro1bcAuA)\n",
    "Courtesy to:\n",
    "- FreeCodeCamp\n",
    "- Daniel Bourke (YT: @mrdbourke)\n",
    "- [D Bourke GitHub](https://github.com/mrdbourke/pytorch-deep-learning)\n",
    "- [Learn PyTorch](https://www.learnpytorch.io/)\n",
    "- [PyTorch Docs](https://pytorch.org/docs/stable/index.html)\n",
    "- [Data types](https://pytorch.org/docs/main/tensors.html)\n",
    "\n",
    "Personal notes:\n",
    "- this notebook uses ai-env kernel"
   ]
  },
  {
   "cell_type": "code",
   "execution_count": 1,
   "id": "7c59d784-5552-4466-a140-89eed7d31ecb",
   "metadata": {},
   "outputs": [],
   "source": [
    "import torch"
   ]
  },
  {
   "cell_type": "code",
   "execution_count": 2,
   "id": "6b681cda-e72e-4e91-81f3-f5e0f429bc50",
   "metadata": {},
   "outputs": [
    {
     "data": {
      "text/plain": [
       "tensor(7)"
      ]
     },
     "execution_count": 2,
     "metadata": {},
     "output_type": "execute_result"
    }
   ],
   "source": [
    "# scalar\n",
    "scalar = torch.tensor(7)\n",
    "scalar"
   ]
  },
  {
   "cell_type": "code",
   "execution_count": 3,
   "id": "e07fb3a7-f733-49e5-b921-e87ec4a45be1",
   "metadata": {},
   "outputs": [
    {
     "data": {
      "text/plain": [
       "0"
      ]
     },
     "execution_count": 3,
     "metadata": {},
     "output_type": "execute_result"
    }
   ],
   "source": [
    "scalar.ndim"
   ]
  },
  {
   "cell_type": "code",
   "execution_count": 4,
   "id": "1815a52b-5799-489d-9bc3-277cd5b1e3bf",
   "metadata": {},
   "outputs": [
    {
     "data": {
      "text/plain": [
       "7"
      ]
     },
     "execution_count": 4,
     "metadata": {},
     "output_type": "execute_result"
    }
   ],
   "source": [
    "# get tensor back as Python int\n",
    "scalar.item()"
   ]
  },
  {
   "cell_type": "code",
   "execution_count": 5,
   "id": "ed68699a-ca79-400b-b3ad-dec843ce5d17",
   "metadata": {},
   "outputs": [
    {
     "data": {
      "text/plain": [
       "tensor([7, 7])"
      ]
     },
     "execution_count": 5,
     "metadata": {},
     "output_type": "execute_result"
    }
   ],
   "source": [
    "# vector\n",
    "vector = torch.tensor([7, 7])\n",
    "vector"
   ]
  },
  {
   "cell_type": "code",
   "execution_count": 6,
   "id": "05170524-33ee-49cf-923f-516e016afef1",
   "metadata": {},
   "outputs": [
    {
     "data": {
      "text/plain": [
       "1"
      ]
     },
     "execution_count": 6,
     "metadata": {},
     "output_type": "execute_result"
    }
   ],
   "source": [
    "vector.ndim"
   ]
  },
  {
   "cell_type": "code",
   "execution_count": 7,
   "id": "e40e58fb-9c59-49b8-876d-6579a14e2a92",
   "metadata": {},
   "outputs": [
    {
     "data": {
      "text/plain": [
       "torch.Size([2])"
      ]
     },
     "execution_count": 7,
     "metadata": {},
     "output_type": "execute_result"
    }
   ],
   "source": [
    "vector.shape"
   ]
  },
  {
   "cell_type": "code",
   "execution_count": 8,
   "id": "df12fe02-6737-402c-a112-85804f51222c",
   "metadata": {},
   "outputs": [
    {
     "data": {
      "text/plain": [
       "tensor([[ 7,  8],\n",
       "        [ 9, 10]])"
      ]
     },
     "execution_count": 8,
     "metadata": {},
     "output_type": "execute_result"
    }
   ],
   "source": [
    "# MATRIX\n",
    "MATRIX = torch.tensor([[7, 8],\n",
    "                      [9, 10]])\n",
    "MATRIX"
   ]
  },
  {
   "cell_type": "code",
   "execution_count": 9,
   "id": "0f2a5aa0-c0dd-4b8b-8b8d-868476a65650",
   "metadata": {},
   "outputs": [
    {
     "data": {
      "text/plain": [
       "2"
      ]
     },
     "execution_count": 9,
     "metadata": {},
     "output_type": "execute_result"
    }
   ],
   "source": [
    "MATRIX.ndim"
   ]
  },
  {
   "cell_type": "code",
   "execution_count": 10,
   "id": "510e3194-5fa8-4cd3-a718-93adc0ebeca0",
   "metadata": {},
   "outputs": [
    {
     "data": {
      "text/plain": [
       "tensor([7, 8])"
      ]
     },
     "execution_count": 10,
     "metadata": {},
     "output_type": "execute_result"
    }
   ],
   "source": [
    "MATRIX[0]"
   ]
  },
  {
   "cell_type": "code",
   "execution_count": 11,
   "id": "28792417-99a0-47ea-abf7-0bf682e31e7d",
   "metadata": {},
   "outputs": [
    {
     "data": {
      "text/plain": [
       "torch.Size([2, 2])"
      ]
     },
     "execution_count": 11,
     "metadata": {},
     "output_type": "execute_result"
    }
   ],
   "source": [
    "MATRIX.shape"
   ]
  },
  {
   "cell_type": "code",
   "execution_count": 12,
   "id": "8283803b-47dc-4e95-9835-2dce8c66b878",
   "metadata": {},
   "outputs": [
    {
     "data": {
      "text/plain": [
       "tensor([[[  1,   2,   3],\n",
       "         [ 11,  22,  33],\n",
       "         [111, 222, 333]]])"
      ]
     },
     "execution_count": 12,
     "metadata": {},
     "output_type": "execute_result"
    }
   ],
   "source": [
    "# TENSOR # 3 square brackets pairs\n",
    "TENSOR = torch.tensor([[[1, 2, 3]\n",
    "                       ,[11, 22, 33]\n",
    "                       ,[111, 222, 333]]])\n",
    "TENSOR"
   ]
  },
  {
   "cell_type": "code",
   "execution_count": 13,
   "id": "4fdbc0f8-bd9f-45f9-9790-37fe06f5f2dc",
   "metadata": {},
   "outputs": [
    {
     "data": {
      "text/plain": [
       "3"
      ]
     },
     "execution_count": 13,
     "metadata": {},
     "output_type": "execute_result"
    }
   ],
   "source": [
    "TENSOR.ndim"
   ]
  },
  {
   "cell_type": "code",
   "execution_count": 14,
   "id": "9992a896-19c5-4894-9902-c7e0b903db57",
   "metadata": {},
   "outputs": [
    {
     "data": {
      "text/plain": [
       "torch.Size([1, 3, 3])"
      ]
     },
     "execution_count": 14,
     "metadata": {},
     "output_type": "execute_result"
    }
   ],
   "source": [
    "TENSOR.shape"
   ]
  },
  {
   "cell_type": "code",
   "execution_count": 15,
   "id": "eea9e9dc-7445-482b-a72a-35fe31c00311",
   "metadata": {},
   "outputs": [
    {
     "data": {
      "text/plain": [
       "tensor([[  1,   2,   3],\n",
       "        [ 11,  22,  33],\n",
       "        [111, 222, 333]])"
      ]
     },
     "execution_count": 15,
     "metadata": {},
     "output_type": "execute_result"
    }
   ],
   "source": [
    "TENSOR[0]"
   ]
  },
  {
   "cell_type": "code",
   "execution_count": 16,
   "id": "287a048f-d683-43ee-ba71-0a8afafae39a",
   "metadata": {},
   "outputs": [],
   "source": [
    "TENSOR_2 = torch.tensor([[[1, 2, 3]\n",
    "                       ,[11, 22, 33]\n",
    "                       ,[111, 222, 333]]\n",
    "                        , [[4, 5, 6]\n",
    "                       ,[44, 55, 66]\n",
    "                       ,[444, 555, 666]]])"
   ]
  },
  {
   "cell_type": "code",
   "execution_count": 17,
   "id": "1969b85f-953d-4ff4-9f7a-c88c4b074d2c",
   "metadata": {},
   "outputs": [
    {
     "data": {
      "text/plain": [
       "3"
      ]
     },
     "execution_count": 17,
     "metadata": {},
     "output_type": "execute_result"
    }
   ],
   "source": [
    "TENSOR_2.ndim"
   ]
  },
  {
   "cell_type": "code",
   "execution_count": 18,
   "id": "742902a3-84b3-4c0d-a86d-dce513ae42c0",
   "metadata": {},
   "outputs": [
    {
     "data": {
      "text/plain": [
       "torch.Size([2, 3, 3])"
      ]
     },
     "execution_count": 18,
     "metadata": {},
     "output_type": "execute_result"
    }
   ],
   "source": [
    "TENSOR_2.shape"
   ]
  },
  {
   "cell_type": "code",
   "execution_count": 19,
   "id": "cf269791-c645-460f-b1ac-d6d1e0cbe933",
   "metadata": {},
   "outputs": [
    {
     "data": {
      "text/plain": [
       "tensor([[  4,   5,   6],\n",
       "        [ 44,  55,  66],\n",
       "        [444, 555, 666]])"
      ]
     },
     "execution_count": 19,
     "metadata": {},
     "output_type": "execute_result"
    }
   ],
   "source": [
    "TENSOR_2[1]"
   ]
  },
  {
   "cell_type": "markdown",
   "id": "a7f087c8-2046-43ad-bb70-a952b058398b",
   "metadata": {},
   "source": [
    "### Random tensors"
   ]
  },
  {
   "cell_type": "code",
   "execution_count": 20,
   "id": "e10e31cd-a5fe-4c9f-b928-018aa31312e7",
   "metadata": {},
   "outputs": [
    {
     "data": {
      "text/plain": [
       "tensor([[0.5883, 0.6202, 0.5673, 0.1439],\n",
       "        [0.4933, 0.9046, 0.9270, 0.5275],\n",
       "        [0.4950, 0.8220, 0.1515, 0.2592]])"
      ]
     },
     "execution_count": 20,
     "metadata": {},
     "output_type": "execute_result"
    }
   ],
   "source": [
    "# create a random tensor of size (3, 4)\n",
    "random_tensor = torch.rand(3, 4)\n",
    "random_tensor"
   ]
  },
  {
   "cell_type": "code",
   "execution_count": 21,
   "id": "3ae52a30-7e6e-4155-a79b-4d322cff7ae0",
   "metadata": {},
   "outputs": [
    {
     "data": {
      "text/plain": [
       "(torch.Size([3, 224, 224]), 3)"
      ]
     },
     "execution_count": 21,
     "metadata": {},
     "output_type": "execute_result"
    }
   ],
   "source": [
    "# create a random tensor with similar shape to an image tensor\n",
    "random_image_size_tensor = torch.rand(size=(3, 224, 224)) # color channel (rgb), height, width\n",
    "random_image_size_tensor.shape, random_image_size_tensor.ndim"
   ]
  },
  {
   "cell_type": "markdown",
   "id": "2a2b01ed-cde0-4e6a-95c4-140124ad4f64",
   "metadata": {},
   "source": [
    "### Zeros and ones"
   ]
  },
  {
   "cell_type": "code",
   "execution_count": 22,
   "id": "f3a64106-d4de-487a-a967-89eba66893b2",
   "metadata": {},
   "outputs": [
    {
     "data": {
      "text/plain": [
       "tensor([[0., 0., 0., 0.],\n",
       "        [0., 0., 0., 0.],\n",
       "        [0., 0., 0., 0.]])"
      ]
     },
     "execution_count": 22,
     "metadata": {},
     "output_type": "execute_result"
    }
   ],
   "source": [
    "# create a tensor of all zeros\n",
    "zeros = torch.zeros(size=(3, 4))\n",
    "zeros"
   ]
  },
  {
   "cell_type": "code",
   "execution_count": 23,
   "id": "5b46f8dd-608f-4dba-adae-c64954ac8de9",
   "metadata": {},
   "outputs": [
    {
     "data": {
      "text/plain": [
       "tensor([[1., 1., 1., 1.],\n",
       "        [1., 1., 1., 1.],\n",
       "        [1., 1., 1., 1.]])"
      ]
     },
     "execution_count": 23,
     "metadata": {},
     "output_type": "execute_result"
    }
   ],
   "source": [
    "# create a tensor of all ones\n",
    "ones = torch.ones(size=(3,4))\n",
    "ones"
   ]
  },
  {
   "cell_type": "code",
   "execution_count": 24,
   "id": "fe7f9688-9166-4f15-b2e0-ffd850d505bd",
   "metadata": {},
   "outputs": [
    {
     "data": {
      "text/plain": [
       "(torch.float32, torch.float32)"
      ]
     },
     "execution_count": 24,
     "metadata": {},
     "output_type": "execute_result"
    }
   ],
   "source": [
    "ones.dtype, random_tensor.dtype"
   ]
  },
  {
   "cell_type": "markdown",
   "id": "84b3bb94-e50d-4d2f-ab22-c5b96d9c1cec",
   "metadata": {},
   "source": [
    "### Creating a range of tensors and tensors-like\n",
    "\n",
    "UserWarning: `torch.range` is deprecated and will be removed in a future release because its behavior is inconsistent with Python's range builtin. Instead, use torch.arange, which produces values in [start, end)."
   ]
  },
  {
   "cell_type": "code",
   "execution_count": 25,
   "id": "7ceb827c-ab88-4458-8b82-72ea94cd68f1",
   "metadata": {},
   "outputs": [
    {
     "data": {
      "text/plain": [
       "tensor([ 0,  1,  2,  3,  4,  5,  6,  7,  8,  9, 10])"
      ]
     },
     "execution_count": 25,
     "metadata": {},
     "output_type": "execute_result"
    }
   ],
   "source": [
    "# use torch.arange()\n",
    "one_to_ten = torch.arange(0, 11)\n",
    "one_to_ten"
   ]
  },
  {
   "cell_type": "code",
   "execution_count": 26,
   "id": "35794253-8ccd-4c23-a118-f41e29929f2e",
   "metadata": {},
   "outputs": [
    {
     "data": {
      "text/plain": [
       "tensor([  0,  77, 154, 231, 308, 385, 462, 539, 616, 693, 770, 847, 924])"
      ]
     },
     "execution_count": 26,
     "metadata": {},
     "output_type": "execute_result"
    }
   ],
   "source": [
    "_arange = torch.arange(start=0, end=1000, step=77)\n",
    "_arange"
   ]
  },
  {
   "cell_type": "code",
   "execution_count": 27,
   "id": "69d62dc7-d53a-4974-8545-507766497457",
   "metadata": {},
   "outputs": [
    {
     "data": {
      "text/plain": [
       "tensor([0, 0, 0, 0, 0, 0, 0, 0, 0, 0, 0])"
      ]
     },
     "execution_count": 27,
     "metadata": {},
     "output_type": "execute_result"
    }
   ],
   "source": [
    "# creating tensors like\n",
    "ten_zeros = torch.zeros_like(input=one_to_ten)\n",
    "ten_zeros"
   ]
  },
  {
   "cell_type": "markdown",
   "id": "8e95be89-984b-4727-8077-62166521d60d",
   "metadata": {},
   "source": [
    "### Tensor datatypes\n",
    "\n",
    "**Note:** tensor datatypes is one of the 3 big errors you'll run into with PyTorch & deep learning:\n",
    "1. Tensors not right datatype; use `tensor.dtype`\n",
    "1. Tensors not right shape; use `tensor.shape`\n",
    "1. Tensors not on the right device; use `tensor.device`"
   ]
  },
  {
   "cell_type": "code",
   "execution_count": 28,
   "id": "e0393450-d0d8-4d6b-9e0d-2b73122ecd58",
   "metadata": {},
   "outputs": [
    {
     "data": {
      "text/plain": [
       "(tensor([3., 6., 9.]), torch.float32)"
      ]
     },
     "execution_count": 28,
     "metadata": {},
     "output_type": "execute_result"
    }
   ],
   "source": [
    "# float 32 tensor as the default\n",
    "float_tensor = torch.tensor([3.0, 6.0, 9.0], dtype=None)\n",
    "float_tensor, float_tensor.dtype"
   ]
  },
  {
   "cell_type": "code",
   "execution_count": 29,
   "id": "eb0dac46-cf96-4c7e-ac14-95e355c0f596",
   "metadata": {},
   "outputs": [
    {
     "data": {
      "text/plain": [
       "(tensor([3., 6., 9.]), torch.float32)"
      ]
     },
     "execution_count": 29,
     "metadata": {},
     "output_type": "execute_result"
    }
   ],
   "source": [
    "float_tensor = torch.tensor([3.0, 6.0, 9.0]\n",
    "                            , dtype=None\n",
    "                            , device=None # default: \"cpu\"; can try \"cuda\"\n",
    "                            , requires_grad=False)\n",
    "float_tensor, float_tensor.dtype"
   ]
  },
  {
   "cell_type": "code",
   "execution_count": 30,
   "id": "f58ea305-3905-43ad-904b-6d673b72f2a8",
   "metadata": {},
   "outputs": [
    {
     "data": {
      "text/plain": [
       "tensor([3., 6., 9.], dtype=torch.float16)"
      ]
     },
     "execution_count": 30,
     "metadata": {},
     "output_type": "execute_result"
    }
   ],
   "source": [
    "# getting float-16-typed tensor from the previous `float_tensor` using .type(torch.float16) or .type(torch.half)\n",
    "float_16_tensor = float_tensor.type(torch.float16)\n",
    "float_16_tensor"
   ]
  },
  {
   "cell_type": "code",
   "execution_count": 31,
   "id": "9d418197-9dc2-46e0-9705-86c331a36e79",
   "metadata": {},
   "outputs": [
    {
     "data": {
      "text/plain": [
       "tensor([3., 6., 9.], dtype=torch.float16)"
      ]
     },
     "execution_count": 31,
     "metadata": {},
     "output_type": "execute_result"
    }
   ],
   "source": [
    "float_half_tensor = float_tensor.type(torch.half)\n",
    "float_half_tensor"
   ]
  },
  {
   "cell_type": "code",
   "execution_count": 32,
   "id": "869e396d-34b8-4e9d-b281-e3ff6140c1ca",
   "metadata": {},
   "outputs": [
    {
     "data": {
      "text/plain": [
       "tensor([ 9., 36., 81.])"
      ]
     },
     "execution_count": 32,
     "metadata": {},
     "output_type": "execute_result"
    }
   ],
   "source": [
    "float_tensor * float_half_tensor # multiplying tensors with different datatypes"
   ]
  },
  {
   "cell_type": "code",
   "execution_count": 33,
   "id": "9ed64602-b1ae-42ae-aca4-f71aa5c8f490",
   "metadata": {},
   "outputs": [
    {
     "data": {
      "text/plain": [
       "tensor([3, 6, 9], dtype=torch.int32)"
      ]
     },
     "execution_count": 33,
     "metadata": {},
     "output_type": "execute_result"
    }
   ],
   "source": [
    "int_32_tensor = torch.tensor([3, 6, 9], dtype=torch.int32)\n",
    "int_32_tensor"
   ]
  },
  {
   "cell_type": "code",
   "execution_count": 34,
   "id": "b23454fd-18cd-4a53-ba87-d3dfa752e42e",
   "metadata": {},
   "outputs": [
    {
     "data": {
      "text/plain": [
       "tensor([ 9., 36., 81.], dtype=torch.float16)"
      ]
     },
     "execution_count": 34,
     "metadata": {},
     "output_type": "execute_result"
    }
   ],
   "source": [
    "int_32_tensor * float_half_tensor"
   ]
  },
  {
   "cell_type": "code",
   "execution_count": 35,
   "id": "410d2df6-2766-4d58-9298-b816fff45213",
   "metadata": {},
   "outputs": [
    {
     "data": {
      "text/plain": [
       "tensor([[0.8109, 0.5139, 0.4128, 0.6751],\n",
       "        [0.4528, 0.2465, 0.9962, 0.4993],\n",
       "        [0.4882, 0.4498, 0.9168, 0.3006]])"
      ]
     },
     "execution_count": 35,
     "metadata": {},
     "output_type": "execute_result"
    }
   ],
   "source": [
    "# create a tensor\n",
    "some_tensor = torch.rand(3,4)\n",
    "some_tensor"
   ]
  },
  {
   "cell_type": "code",
   "execution_count": 36,
   "id": "f0800ebe-f006-4f13-92e0-6d657f1d3596",
   "metadata": {},
   "outputs": [
    {
     "name": "stdout",
     "output_type": "stream",
     "text": [
      "tensor([[0.8109, 0.5139, 0.4128, 0.6751],\n",
      "        [0.4528, 0.2465, 0.9962, 0.4993],\n",
      "        [0.4882, 0.4498, 0.9168, 0.3006]])\n",
      "data type: torch.float32\n",
      "shape: torch.Size([3, 4])\n",
      "device: cpu\n"
     ]
    }
   ],
   "source": [
    "print(some_tensor)\n",
    "print(f\"data type: {some_tensor.dtype}\")\n",
    "print(f\"shape: {some_tensor.shape}\")\n",
    "print(f\"device: {some_tensor.device}\")"
   ]
  },
  {
   "cell_type": "code",
   "execution_count": 37,
   "id": "e387e960-8375-4a72-84bd-4023a119f8f3",
   "metadata": {},
   "outputs": [
    {
     "data": {
      "text/plain": [
       "torch.Size([3, 4])"
      ]
     },
     "execution_count": 37,
     "metadata": {},
     "output_type": "execute_result"
    }
   ],
   "source": [
    "some_tensor.size() # `size` method is the same as `shape` attribute"
   ]
  },
  {
   "cell_type": "markdown",
   "id": "71d01b1c-3445-4b66-a93e-2d2a53b77632",
   "metadata": {},
   "source": [
    "### Tensor Operations\n",
    "Tensor operations include:\n",
    "- Addition\n",
    "- Subtraction\n",
    "- Multiplication (element-wise)\n",
    "- Division\n",
    "- Matrix multiplication"
   ]
  },
  {
   "cell_type": "markdown",
   "id": "63941319-712c-4455-9aaf-d0226ae61a16",
   "metadata": {},
   "source": [
    "addition"
   ]
  },
  {
   "cell_type": "code",
   "execution_count": 39,
   "id": "68d6b21a-985a-49f2-aadd-00bc4bbfabbc",
   "metadata": {},
   "outputs": [
    {
     "data": {
      "text/plain": [
       "tensor([[11, 12, 13],\n",
       "        [14, 15, 16]])"
      ]
     },
     "execution_count": 39,
     "metadata": {},
     "output_type": "execute_result"
    }
   ],
   "source": [
    "# addition\n",
    "_tensor = torch.tensor([[1, 2, 3], [4, 5, 6]])\n",
    "_tensor += 10\n",
    "_tensor"
   ]
  },
  {
   "cell_type": "code",
   "execution_count": 59,
   "id": "0675021b-2434-461e-bad1-2ea577bc79e1",
   "metadata": {},
   "outputs": [
    {
     "data": {
      "text/plain": [
       "tensor([[11, 12, 13],\n",
       "        [14, 15, 16]])"
      ]
     },
     "execution_count": 59,
     "metadata": {},
     "output_type": "execute_result"
    }
   ],
   "source": [
    "# addition\n",
    "_tensor = torch.tensor([[1, 2, 3], [4, 5, 6]])\n",
    "torch.add(_tensor, 10)"
   ]
  },
  {
   "cell_type": "markdown",
   "id": "d333f85e-0d6c-4def-9eb3-1c74d3259eca",
   "metadata": {},
   "source": [
    "multiplication"
   ]
  },
  {
   "cell_type": "code",
   "execution_count": 57,
   "id": "6a9822d1-35cc-49db-9b49-d612e2ac0c79",
   "metadata": {},
   "outputs": [
    {
     "data": {
      "text/plain": [
       "tensor([[10, 20, 30],\n",
       "        [40, 50, 60]])"
      ]
     },
     "execution_count": 57,
     "metadata": {},
     "output_type": "execute_result"
    }
   ],
   "source": [
    "# multiplication\n",
    "_tensor = torch.tensor([[1, 2, 3], [4, 5, 6]])\n",
    "_tensor *= 10\n",
    "_tensor"
   ]
  },
  {
   "cell_type": "code",
   "execution_count": 58,
   "id": "9c074d55-fe8c-49ec-b9fa-5a3b277f2bcb",
   "metadata": {},
   "outputs": [
    {
     "data": {
      "text/plain": [
       "tensor([[10, 20, 30],\n",
       "        [40, 50, 60]])"
      ]
     },
     "execution_count": 58,
     "metadata": {},
     "output_type": "execute_result"
    }
   ],
   "source": [
    "# multiplication\n",
    "_tensor = torch.tensor([[1, 2, 3], [4, 5, 6]])\n",
    "torch.mul(_tensor, 10)"
   ]
  },
  {
   "cell_type": "markdown",
   "id": "173273c4-c4d6-4ab7-8364-96dc00abe9b8",
   "metadata": {},
   "source": [
    "subtraction"
   ]
  },
  {
   "cell_type": "code",
   "execution_count": 44,
   "id": "6b769c3d-29a8-43cb-920e-ce78af149a0c",
   "metadata": {},
   "outputs": [
    {
     "data": {
      "text/plain": [
       "tensor([[-9, -8, -7],\n",
       "        [-6, -5, -4]])"
      ]
     },
     "execution_count": 44,
     "metadata": {},
     "output_type": "execute_result"
    }
   ],
   "source": [
    "# subtraction\n",
    "_tensor = torch.tensor([[1, 2, 3], [4, 5, 6]])\n",
    "_tensor -= 10\n",
    "_tensor"
   ]
  },
  {
   "cell_type": "code",
   "execution_count": 61,
   "id": "3a77f2c8-ac48-4b62-8016-d8bf1427c3aa",
   "metadata": {},
   "outputs": [
    {
     "data": {
      "text/plain": [
       "tensor([[-9, -8, -7],\n",
       "        [-6, -5, -4]])"
      ]
     },
     "execution_count": 61,
     "metadata": {},
     "output_type": "execute_result"
    }
   ],
   "source": [
    "# subtraction\n",
    "_tensor = torch.tensor([[1, 2, 3], [4, 5, 6]])\n",
    "torch.sub(_tensor, 10)"
   ]
  },
  {
   "cell_type": "markdown",
   "id": "c313a283-011f-4c8b-8eb1-6bdaa7dbcec8",
   "metadata": {},
   "source": [
    "### Multiplication\n",
    "Two main ways of performing multiplication in neural networks and deep learning:\n",
    "1. Element-wise multiplication\n",
    "2. Matrix multiplication (dot product)"
   ]
  },
  {
   "cell_type": "markdown",
   "id": "7dd515c9-54fa-4e6e-9a67-6c77b91f61af",
   "metadata": {},
   "source": [
    "Element-wise multiplication"
   ]
  },
  {
   "cell_type": "code",
   "execution_count": 56,
   "id": "ba72041c-8225-4fa3-a2f2-c973c5e03621",
   "metadata": {},
   "outputs": [
    {
     "name": "stdout",
     "output_type": "stream",
     "text": [
      "tensor([1, 2, 3]) * tensor([1, 2, 3])\n",
      "Equals:  tensor([1, 4, 9])\n"
     ]
    }
   ],
   "source": [
    "_tensor = torch.tensor([1, 2, 3])\n",
    "print(_tensor, '*', _tensor)\n",
    "print('Equals: ', _tensor * _tensor)"
   ]
  },
  {
   "cell_type": "markdown",
   "id": "5f237e25-898d-40df-80dd-7abe7b921c29",
   "metadata": {},
   "source": [
    "Matrix multiplication"
   ]
  },
  {
   "cell_type": "code",
   "execution_count": 64,
   "id": "f1aa65e8-0af4-4b1b-af71-511f245f070f",
   "metadata": {},
   "outputs": [
    {
     "data": {
      "text/plain": [
       "tensor(14)"
      ]
     },
     "execution_count": 64,
     "metadata": {},
     "output_type": "execute_result"
    }
   ],
   "source": [
    "_tensor = torch.tensor([1, 2, 3])\n",
    "torch.matmul(_tensor, _tensor)"
   ]
  },
  {
   "cell_type": "code",
   "execution_count": 86,
   "id": "5a0f425a-b5a8-4bfd-bf27-500de32228cb",
   "metadata": {},
   "outputs": [
    {
     "name": "stdout",
     "output_type": "stream",
     "text": [
      "error: inconsistent tensor size, expected tensor [3] and src [4] to have the same number of elements, but got 3 and 4 elements respectively\n"
     ]
    }
   ],
   "source": [
    "_tensor = torch.tensor([1, 2, 3])\n",
    "_tensor2 = torch.tensor([1, 2, 3, 4])\n",
    "try:\n",
    "    print(torch.matmul(_tensor, _tensor2))\n",
    "    print('not an error')\n",
    "except Exception as e:\n",
    "    print('error:', str(e))"
   ]
  },
  {
   "cell_type": "code",
   "execution_count": 84,
   "id": "105bf51d-8150-4b06-88ff-48d3ccf0e809",
   "metadata": {},
   "outputs": [
    {
     "name": "stdout",
     "output_type": "stream",
     "text": [
      "tensor([14, 14])\n",
      "not an error\n"
     ]
    }
   ],
   "source": [
    "_tensor = torch.tensor([[1, 2, 3], [1, 2, 3]])\n",
    "_tensor2 = torch.tensor([1, 2, 3])\n",
    "try:\n",
    "    print(torch.matmul(_tensor, _tensor2))\n",
    "    print('not an error')\n",
    "except Exception as e:\n",
    "    print('error:', str(e))"
   ]
  },
  {
   "cell_type": "code",
   "execution_count": 85,
   "id": "0865f044-4573-4db5-830e-0c7cfd69ddb4",
   "metadata": {},
   "outputs": [
    {
     "name": "stdout",
     "output_type": "stream",
     "text": [
      "error: mat1 and mat2 shapes cannot be multiplied (1x3 and 2x3)\n"
     ]
    }
   ],
   "source": [
    "_tensor = torch.tensor([1, 2, 3])\n",
    "_tensor2 = torch.tensor([[1, 2, 3], [1, 2, 3]])\n",
    "try:\n",
    "    print(torch.matmul(_tensor, _tensor2))\n",
    "    print('not an error')\n",
    "except Exception as e:\n",
    "    print('error:', str(e))"
   ]
  },
  {
   "cell_type": "markdown",
   "id": "9717bc67-df7b-4efe-bcd3-a6c041771b02",
   "metadata": {},
   "source": [
    "continue: 2:25"
   ]
  },
  {
   "cell_type": "code",
   "execution_count": 53,
   "id": "112bc5a7-035a-47ed-89ea-12b4cb8f8a33",
   "metadata": {},
   "outputs": [],
   "source": [
    "# division\n",
    "# _tensor = torch.tensor([[10, 20, 30], [40, 50, 60]])\n",
    "# _tensor /= 10\n",
    "# _tensor"
   ]
  }
 ],
 "metadata": {
  "kernelspec": {
   "display_name": "ai-env",
   "language": "python",
   "name": "ai-env"
  },
  "language_info": {
   "codemirror_mode": {
    "name": "ipython",
    "version": 3
   },
   "file_extension": ".py",
   "mimetype": "text/x-python",
   "name": "python",
   "nbconvert_exporter": "python",
   "pygments_lexer": "ipython3",
   "version": "3.11.11"
  }
 },
 "nbformat": 4,
 "nbformat_minor": 5
}
