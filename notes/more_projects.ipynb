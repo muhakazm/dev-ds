{
 "cells": [
  {
   "cell_type": "markdown",
   "id": "b03db02c-9818-488f-823f-58f567311919",
   "metadata": {},
   "source": [
    "# Projects to be had\n",
    "\n",
    "| Column 1 | Column 2 |\n",
    "|-|-|\n",
    "| Anime Rating Score estimation | https://www.kaggle.com/datasets/tanishksharma9905/top-popular-anime/data |\n",
    "| Uber fares prediction | https://www.kaggle.com/datasets/yasserh/uber-fares-dataset |\n",
    "| Social Media Engagement prediction | https://www.kaggle.com/datasets/subashmaster0411/social-media-engagement-dataset |\n",
    "| Rain in Australia Prediction | https://www.kaggle.com/datasets/jsphyg/weather-dataset-rattle-package/data |\n",
    "| Income category prediction | https://www.kaggle.com/code/tawfikelmetwally/census-income-analysis-and-modeling/input |\n",
    "| Diabetes Prediction | https://www.kaggle.com/datasets/alexteboul/diabetes-health-indicators-dataset |\n",
    "| Steam Games Download Number estimation | https://www.kaggle.com/datasets/hbugrae/best-selling-steam-games-of-all-time/data |\n",
    "| Hotel Reservation Prediction | https://www.kaggle.com/datasets/ahsan81/hotel-reservations-classification-dataset |\n",
    "| School Dropout Prediction | https://www.kaggle.com/code/devraai/school-dropout-survey-eda-and-prediction |"
   ]
  }
 ],
 "metadata": {
  "kernelspec": {
   "display_name": "Python: ds-gen",
   "language": "python",
   "name": "ds-gen"
  },
  "language_info": {
   "codemirror_mode": {
    "name": "ipython",
    "version": 3
   },
   "file_extension": ".py",
   "mimetype": "text/x-python",
   "name": "python",
   "nbconvert_exporter": "python",
   "pygments_lexer": "ipython3",
   "version": "3.12.7"
  }
 },
 "nbformat": 4,
 "nbformat_minor": 5
}
