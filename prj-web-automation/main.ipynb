{
 "cells": [
  {
   "cell_type": "code",
   "execution_count": 43,
   "id": "551dd1b8-320c-4cc6-b223-1bcde103c18b",
   "metadata": {},
   "outputs": [],
   "source": [
    "from selenium import webdriver\n",
    "from selenium.webdriver.common.by import By\n",
    "from selenium.webdriver.edge.service import Service\n",
    "from webdriver_manager.microsoft import EdgeChromiumDriverManager\n",
    "import time"
   ]
  },
  {
   "cell_type": "markdown",
   "id": "8fb8d4a7-7f41-44f2-9e48-2f7e87f42e4c",
   "metadata": {},
   "source": [
    "Note: the file `msedgedriver.exe` should be run first."
   ]
  },
  {
   "cell_type": "code",
   "execution_count": 42,
   "id": "58c164d1-cd38-4fb1-8442-80cb15cec7f4",
   "metadata": {},
   "outputs": [
    {
     "name": "stdout",
     "output_type": "stream",
     "text": [
      "Username field found!\n",
      "Password field found!\n",
      "Login button found!\n"
     ]
    }
   ],
   "source": [
    "# Set up the WebDriver\n",
    "service = Service(EdgeChromiumDriverManager().install())\n",
    "driver = webdriver.Edge(service=service)\n",
    "\n",
    "# Open a website\n",
    "driver.get(\"https://arbteknologi.com/arbsystem/index.php\")\n",
    "\n",
    "try:\n",
    "    # Check if the element with name 'username' exists\n",
    "    username_field = driver.find_element(By.NAME, \"UserNameEntryField\")\n",
    "    print(\"Username field found!\")\n",
    "    username_field.send_keys(\"90112\")  # Insert username\n",
    "    driver.implicitly_wait(2)\n",
    "    time.sleep(2)\n",
    "\n",
    "    # Check if the element with name 'password' exists\n",
    "    password_field = driver.find_element(By.NAME, \"Password\")\n",
    "    print(\"Password field found!\")\n",
    "    password_field.send_keys(\"123456\")  # Insert password\n",
    "    driver.implicitly_wait(2)\n",
    "    time.sleep(2)\n",
    "\n",
    "    # Check if the login button exists and click it\n",
    "    # login_button = driver.find_element(By.NAME, \"SubmitUser\")  # Update with the correct button name\n",
    "    login_button = WebDriverWait(driver, 10).until(\n",
    "        EC.element_to_be_clickable((By.NAME, \"SubmitUser\"))\n",
    "    )\n",
    "    print(\"Login button found!\")\n",
    "    login_button.click()\n",
    "    time.sleep(2)\n",
    "\n",
    "    # Optionally, wait for some time to see the result\n",
    "    driver.implicitly_wait(2)  # Wait for 5 seconds (you can adjust this time)\n",
    "\n",
    "    data_karyawan_menu = driver.find_element(By.XPATH, \"//a[@href='/arbsystem/index.php?Application=DK']\")\n",
    "    data_karyawan_menu.click()\n",
    "    driver.implicitly_wait(2)\n",
    "    time.sleep(2)\n",
    "\n",
    "    # Locate and click the link using XPath\n",
    "    data_employee_link = driver.find_element(By.XPATH, \"//a[text()='Data Employee']\")\n",
    "    data_employee_link.click()\n",
    "    driver.implicitly_wait(2)\n",
    "    time.sleep(2)\n",
    "\n",
    "except Exception as e:\n",
    "    print(f\"Error: {e}\")\n",
    "\n",
    "# Close the browser\n",
    "# driver.quit()"
   ]
  }
 ],
 "metadata": {
  "kernelspec": {
   "display_name": "python:ds-gen",
   "language": "python",
   "name": "ds-gen"
  },
  "language_info": {
   "codemirror_mode": {
    "name": "ipython",
    "version": 3
   },
   "file_extension": ".py",
   "mimetype": "text/x-python",
   "name": "python",
   "nbconvert_exporter": "python",
   "pygments_lexer": "ipython3",
   "version": "3.12.3"
  }
 },
 "nbformat": 4,
 "nbformat_minor": 5
}
