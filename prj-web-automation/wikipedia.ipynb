{
 "cells": [
  {
   "cell_type": "code",
   "execution_count": 29,
   "id": "2ec146ba-efd2-4788-8890-ed036b1a294f",
   "metadata": {},
   "outputs": [],
   "source": [
    "import os\n",
    "import importlib\n",
    "import pickle\n",
    "from src import selenbeau\n",
    "import urllib.parse"
   ]
  },
  {
   "cell_type": "code",
   "execution_count": 12,
   "id": "6da2d999-3bb1-4f8d-8fbf-abd40a979499",
   "metadata": {},
   "outputs": [],
   "source": [
    "import requests\n",
    "from bs4 import BeautifulSoup\n",
    "from urllib.parse import urljoin\n",
    "\n",
    "def extract_people_links(list_url):\n",
    "    base_url = \"https://en.wikipedia.org\"\n",
    "    response = requests.get(list_url)\n",
    "    soup = BeautifulSoup(response.content, 'html.parser')\n",
    "\n",
    "    links = set()\n",
    "    for li in soup.select('li a[href^=\"/wiki/\"]'):\n",
    "        href = li.get('href')\n",
    "        # Filter out non-article links (skip files, categories, help pages, etc.)\n",
    "        if not any(href.startswith(f\"/wiki/{ns}:\") for ns in ['Help', 'File', 'Category', 'Wikipedia', 'Template', 'Portal', 'Talk']):\n",
    "            full_url = urljoin(base_url, href)\n",
    "            links.add(full_url)\n",
    "\n",
    "    return list(links)"
   ]
  },
  {
   "cell_type": "code",
   "execution_count": 2,
   "id": "53982824-cf65-477d-88ad-a4fac2624be8",
   "metadata": {},
   "outputs": [],
   "source": [
    "def get_page_name(url):\n",
    "    page_name = url.replace('https://en.wikipedia.org/wiki/','')\n",
    "    page_name = page_name.replace('_',' ')\n",
    "    page_name = urllib.parse.unquote(page_name)\n",
    "    if ':' in page_name:\n",
    "        return None\n",
    "    return page_name"
   ]
  },
  {
   "cell_type": "code",
   "execution_count": 3,
   "id": "c5a01e1b-e8ab-4721-a5c0-4fc4310c8de1",
   "metadata": {},
   "outputs": [],
   "source": [
    "try:\n",
    "    with open(load_path, 'rb') as f:\n",
    "        people_dob = pickle.load(f)\n",
    "    errors = list()\n",
    "except:\n",
    "    people_dob = dict()\n",
    "    errors = list()"
   ]
  },
  {
   "cell_type": "code",
   "execution_count": 39,
   "id": "5d18b891-4b5e-4ebc-9921-5fd5ab023e86",
   "metadata": {},
   "outputs": [],
   "source": [
    "def process_url(url):\n",
    "    if url in people_dob:\n",
    "        return None\n",
    "    tracer = {'url': url}\n",
    "    page_name = get_page_name(url)\n",
    "    if page_name is None:\n",
    "        return None\n",
    "    tracer['page_name'] = page_name\n",
    "    try:\n",
    "        page_id = selenbeau.get_wiki_id_from_page_title(page_title=page_name, open_browser=False)\n",
    "        tracer['page_id'] = page_id\n",
    "        dob = selenbeau.get_dob_from_wikidata(page_id)\n",
    "        tracer['dob'] = dob\n",
    "        return tracer\n",
    "    except Exception:\n",
    "        errors.append(tracer)\n",
    "        return None"
   ]
  },
  {
   "cell_type": "code",
   "execution_count": 5,
   "id": "f9e55539-51a6-43dd-b7e1-ff30b3f16635",
   "metadata": {},
   "outputs": [],
   "source": [
    "core_urls = [\n",
    "    'https://en.wikipedia.org/wiki/Party_and_state_leaders',\n",
    "    'https://en.wikipedia.org/wiki/List_of_Chinese_by_net_worth'\n",
    "]"
   ]
  },
  {
   "cell_type": "code",
   "execution_count": 8,
   "id": "ec5177e5-fdfc-4626-a16c-683f27e8b6af",
   "metadata": {},
   "outputs": [],
   "source": [
    "china_people_dob_path = os.path.join('data', 'outputs', 'walk_wiki', 'china_people_dob.pickle')\n",
    "processed_core_urls_path = os.path.join('data', 'outputs', 'walk_wiki', 'core_urls_processed.pickle')"
   ]
  },
  {
   "cell_type": "code",
   "execution_count": 10,
   "id": "6c999064-a108-4ce6-9519-60139245f553",
   "metadata": {},
   "outputs": [],
   "source": [
    "try:\n",
    "    with open(china_people_dob_path, 'rb') as f:\n",
    "        people_dob = pickle.load(f)\n",
    "except:\n",
    "    people_dob = dict()\n",
    "\n",
    "try:\n",
    "    with open(processed_core_urls_path, 'rb') as f:\n",
    "        core_urls_processed = pickle.load(f)\n",
    "except:\n",
    "    core_urls_processed = list()"
   ]
  },
  {
   "cell_type": "code",
   "execution_count": 34,
   "id": "31b34ce7-aec8-42a6-b67c-ddac08023763",
   "metadata": {},
   "outputs": [
    {
     "data": {
      "text/plain": [
       "<module 'src.selenbeau' from 'C:\\\\Users\\\\muhak\\\\prj\\\\dev-ds\\\\prj-web-automation\\\\src\\\\selenbeau.py'>"
      ]
     },
     "execution_count": 34,
     "metadata": {},
     "output_type": "execute_result"
    }
   ],
   "source": [
    "importlib.reload(selenbeau)"
   ]
  },
  {
   "cell_type": "code",
   "execution_count": null,
   "id": "2e0f67b6-ef2d-49b7-a299-a30903a8fe0d",
   "metadata": {},
   "outputs": [],
   "source": [
    "for core_url in core_urls:\n",
    "    if core_url in core_urls_processed:\n",
    "        continue\n",
    "    inner_urls = extract_people_links(core_url)\n",
    "\n",
    "    for url in inner_urls:\n",
    "        data = process_url(url)\n",
    "        if data:\n",
    "            people_dob[url] = data\n",
    "            with open(china_people_dob_path, 'wb') as f:\n",
    "                pickle.dump(people_dob, f)\n",
    "\n",
    "    core_urls_processed.append(core_url)        \n",
    "    with open(processed_core_urls_path, 'wb') as f:\n",
    "        pickle.dump(core_urls_processed, f)"
   ]
  }
 ],
 "metadata": {
  "kernelspec": {
   "display_name": "Python: ds-gen",
   "language": "python",
   "name": "ds-gen"
  },
  "language_info": {
   "codemirror_mode": {
    "name": "ipython",
    "version": 3
   },
   "file_extension": ".py",
   "mimetype": "text/x-python",
   "name": "python",
   "nbconvert_exporter": "python",
   "pygments_lexer": "ipython3",
   "version": "3.12.7"
  }
 },
 "nbformat": 4,
 "nbformat_minor": 5
}
