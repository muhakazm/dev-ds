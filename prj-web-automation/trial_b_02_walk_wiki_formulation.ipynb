{
 "cells": [
  {
   "cell_type": "code",
   "execution_count": 2,
   "id": "86136352-c09f-475d-9793-656eac5c361c",
   "metadata": {},
   "outputs": [],
   "source": [
    "import sys\n",
    "import os\n",
    "import importlib\n",
    "import json\n",
    "import pickle\n",
    "import uuid\n",
    "import copy\n",
    "import tqdm\n",
    "import requests\n",
    "from urllib.parse import urlparse, unquote\n",
    "from pathlib import Path\n",
    "\n",
    "curr_path = Path.cwd()\n",
    "while curr_path.name != 'tasks' and curr_path != curr_path.parent:\n",
    "    curr_path = curr_path.parent\n",
    "\n",
    "if curr_path.name == 'tasks':\n",
    "    sys.path.append(str(curr_path))\n",
    "else:\n",
    "    raise FileNotFoundError(\"Could not find 'tasks' folder in parent hierarchy.\")\n",
    "\n",
    "import numpy as np\n",
    "import pandas as pd\n",
    "\n",
    "from pack import helper as h\n",
    "from pack.wiki import wikipedia_connect as wc"
   ]
  },
  {
   "cell_type": "code",
   "execution_count": 3,
   "id": "5ad89d49-8969-4d49-ace4-2d65212514e7",
   "metadata": {},
   "outputs": [],
   "source": [
    "import requests\n",
    "from bs4 import BeautifulSoup\n",
    "import pandas as pd\n",
    "from SPARQLWrapper import SPARQLWrapper, JSON"
   ]
  },
  {
   "cell_type": "code",
   "execution_count": 4,
   "id": "5a59b45b-0d68-437b-9a19-250ddf4daa75",
   "metadata": {},
   "outputs": [],
   "source": [
    "import wikipediaapi\n",
    "import re\n",
    "import requests\n",
    "from urllib.parse import urlparse, unquote"
   ]
  },
  {
   "cell_type": "code",
   "execution_count": 4,
   "id": "af072cfe-df44-412c-934f-bbcbf6ebc5bf",
   "metadata": {},
   "outputs": [],
   "source": [
    "# core_urls = [\n",
    "#     'https://en.wikipedia.org/wiki/List_of_Chinese_contemporary_artists',\n",
    "#     'https://en.wikipedia.org/wiki/List_of_Chinese_women_artists',\n",
    "#     'https://en.wikipedia.org/wiki/List_of_Chinese_astronauts',\n",
    "#     'https://en.wikipedia.org/wiki/List_of_Chinese_film_directors',\n",
    "#     'https://en.wikipedia.org/wiki/List_of_Chinese_mathematicians',\n",
    "#     'https://en.wikipedia.org/wiki/List_of_Chinese_musicians',\n",
    "#     'https://en.wikipedia.org/wiki/List_of_Chinese_photographers'\n",
    "# ]"
   ]
  },
  {
   "cell_type": "code",
   "execution_count": 5,
   "id": "1b9fb451-d84f-4c2c-a6bc-3053db0d3b0a",
   "metadata": {},
   "outputs": [],
   "source": [
    "core_urls = [\n",
    "    'https://en.wikipedia.org/wiki/Party_and_state_leaders',\n",
    "    'https://en.wikipedia.org/wiki/List_of_Chinese_by_net_worth'\n",
    "]"
   ]
  },
  {
   "cell_type": "code",
   "execution_count": 6,
   "id": "c508ec19-04cf-443e-9ee7-207d9f207628",
   "metadata": {},
   "outputs": [],
   "source": [
    "def extract_sections(sections, page_title, base_url):\n",
    "    sections_data = []\n",
    "\n",
    "    def add_sections(sections):\n",
    "        section_list = []\n",
    "        for section in sections:\n",
    "            section_data = {\n",
    "                'section': section.title,\n",
    "                'text': section.text,\n",
    "                'url': f\"{base_url}/wiki/{page_title.replace(' ', '_')}#{section.title.replace(' ', '_')}\",\n",
    "                'sub': add_sections(section.sections)\n",
    "            }\n",
    "            section_list.append(section_data)\n",
    "        return section_list\n",
    "\n",
    "    sections_data = add_sections(sections)\n",
    "    return sections_data\n",
    "\n",
    "def extract_personal_data(page):\n",
    "    base_url = 'https://en.wikipedia.org'\n",
    "    data = {\n",
    "        'lang': 'en',\n",
    "        'title': page.title,\n",
    "        'summary': page.summary,\n",
    "        'url': page.fullurl,\n",
    "        'sections': extract_sections(page.sections, page.title, base_url),\n",
    "        'languages': list(page.langlinks.keys()),\n",
    "        'categories': list(page.categories.keys()),\n",
    "        'links': list(page.links.keys()),\n",
    "        'backlinks': [f\"{base_url}/wiki/{title.replace(' ', '_')}\" for title in page.backlinks.keys()],\n",
    "        # 'images': extract_images(page.fullurl)\n",
    "    }\n",
    "    return data"
   ]
  },
  {
   "cell_type": "code",
   "execution_count": 6,
   "id": "06aeb729-f312-44c8-ab45-0f6105497ffb",
   "metadata": {},
   "outputs": [],
   "source": [
    "# person_name = 'Freddie Mercury'\n",
    "# wiki_wiki = wikipediaapi.Wikipedia(\n",
    "#     user_agent='DataConnect (dataConnect@example.com)',\n",
    "#     language='en',\n",
    "#     extract_format=wikipediaapi.ExtractFormat.WIKI\n",
    "# )\n",
    "# page = wiki_wiki.page(person_name)\n",
    "\n",
    "# if not page.exists():\n",
    "#     raise ValueError('page does not exist')\n",
    "\n",
    "# result_page = extract_personal_data(page)"
   ]
  },
  {
   "cell_type": "code",
   "execution_count": 7,
   "id": "49095c57-51b5-46d7-be76-733443707040",
   "metadata": {},
   "outputs": [],
   "source": [
    "# result_page"
   ]
  },
  {
   "cell_type": "markdown",
   "id": "7aaadd48-51e5-45ad-ab6b-cbff516d7a44",
   "metadata": {},
   "source": [
    "# New trial"
   ]
  },
  {
   "cell_type": "code",
   "execution_count": 7,
   "id": "cd6f94fe-8fa1-4331-8b8e-44955ad6d9cd",
   "metadata": {},
   "outputs": [],
   "source": [
    "import requests\n",
    "from bs4 import BeautifulSoup\n",
    "from urllib.parse import urljoin\n",
    "\n",
    "def extract_people_links(list_url):\n",
    "    base_url = \"https://en.wikipedia.org\"\n",
    "    response = requests.get(list_url)\n",
    "    soup = BeautifulSoup(response.content, 'html.parser')\n",
    "\n",
    "    links = set()\n",
    "    for li in soup.select('li a[href^=\"/wiki/\"]'):\n",
    "        href = li.get('href')\n",
    "        # Filter out non-article links (skip files, categories, help pages, etc.)\n",
    "        if not any(href.startswith(f\"/wiki/{ns}:\") for ns in ['Help', 'File', 'Category', 'Wikipedia', 'Template', 'Portal', 'Talk']):\n",
    "            full_url = urljoin(base_url, href)\n",
    "            links.add(full_url)\n",
    "\n",
    "    return list(links)"
   ]
  },
  {
   "cell_type": "markdown",
   "id": "1e558277-4a54-494c-b176-57c5020a713a",
   "metadata": {},
   "source": [
    "## Access query.wikidata.org\n",
    "\n",
    "```\n",
    "SELECT ?item WHERE {\n",
    "  ?item rdfs:label \"Chang Ch'ung-ho\"@en .\n",
    "  ?article schema:about ?item ;\n",
    "           schema:isPartOf <https://en.wikipedia.org/> .\n",
    "}\n",
    "LIMIT 1\n",
    "```\n",
    "\n",
    "#https://en.wikipedia.org/wiki/Special:EntityPage/Q15869"
   ]
  },
  {
   "cell_type": "code",
   "execution_count": 8,
   "id": "eeda84c3-fa26-48a8-a9a7-974ba068f4bd",
   "metadata": {},
   "outputs": [],
   "source": [
    "from selenium import webdriver\n",
    "from selenium.webdriver.common.by import By\n",
    "from selenium.webdriver.common.keys import Keys\n",
    "from selenium.webdriver.edge.service import Service\n",
    "from webdriver_manager.microsoft import EdgeChromiumDriverManager\n",
    "from selenium.webdriver.support.ui import WebDriverWait\n",
    "from selenium.webdriver.support import expected_conditions as EC\n",
    "import time"
   ]
  },
  {
   "cell_type": "markdown",
   "id": "4d9db524-9afe-46ea-ab6f-8032c548e5cb",
   "metadata": {},
   "source": [
    "trial"
   ]
  },
  {
   "cell_type": "code",
   "execution_count": 10,
   "id": "6fd428e4-7186-4541-a3ba-beaab47b8e1a",
   "metadata": {},
   "outputs": [],
   "source": [
    "# # Setup Edge WebDriver\n",
    "# # service = Service(EdgeChromiumDriverManager().install())\n",
    "# service = Service(\"./msedgedriver.exe\")  # \"./\" means same folder as notebook\n",
    "# options = webdriver.EdgeOptions()\n",
    "# # options.add_argument(\"--headless\")  # Optional: Uncomment for headless mode\n",
    "# driver = webdriver.Edge(service=service, options=options)\n",
    "\n",
    "# # Go to Wikidata Query Service\n",
    "# driver.get(\"https://query.wikidata.org/\")\n",
    "\n",
    "# # Prepare your SPARQL query\n",
    "# sparql_query = '''\n",
    "# SELECT ?item WHERE {\n",
    "#   ?item rdfs:label \"Chang Ch'ung-ho\"@en .\n",
    "#   ?article schema:about ?item ;\n",
    "#            schema:isPartOf <https://en.wikipedia.org/> .\n",
    "# }\n",
    "# LIMIT 1\n",
    "# '''\n",
    "\n",
    "# try:\n",
    "#     # Wait for CodeMirror to load\n",
    "#     WebDriverWait(driver, 10).until(\n",
    "#         EC.presence_of_element_located((By.CLASS_NAME, \"CodeMirror\"))\n",
    "#     )\n",
    "#     time.sleep(2)\n",
    "\n",
    "#     # Click on CodeMirror to focus\n",
    "#     cm_editor = driver.find_element(By.CLASS_NAME, \"CodeMirror\")\n",
    "#     cm_editor.click()\n",
    "#     time.sleep(1)\n",
    "\n",
    "#     # Locate the hidden textarea inside CodeMirror\n",
    "#     textarea = cm_editor.find_element(By.CSS_SELECTOR, \"textarea\")\n",
    "#     textarea.send_keys(Keys.CONTROL + \"a\")\n",
    "#     textarea.send_keys(Keys.DELETE)\n",
    "#     textarea.send_keys(sparql_query)\n",
    "#     time.sleep(1)\n",
    "\n",
    "#     # Click the \"Execute\" button\n",
    "#     run_button = driver.find_element(By.ID, \"execute-button\")\n",
    "#     run_button.click()\n",
    "\n",
    "#     # Wait for the results table\n",
    "#     WebDriverWait(driver, 10).until(\n",
    "#         EC.presence_of_element_located((By.CSS_SELECTOR, \"table.table\"))\n",
    "#     )\n",
    "#     time.sleep(2)\n",
    "\n",
    "#     # Parse results\n",
    "#     table_rows = driver.find_elements(By.CSS_SELECTOR, \"table.table tbody tr\")\n",
    "#     results = []\n",
    "#     for row in table_rows:\n",
    "#         cols = row.find_elements(By.TAG_NAME, \"td\")\n",
    "#         results.append([col.text for col in cols])\n",
    "\n",
    "#     # print(\"SPARQL Results:\", results)\n",
    "#     try:\n",
    "#         wiki_id_target = results[4][0].replace('wd:','')\n",
    "#         print('>>>>>', wiki_id_target)\n",
    "#     except:\n",
    "#         print('failed to get the exact result')\n",
    "\n",
    "# except Exception as e:\n",
    "#     print(\"Error:\", e)\n",
    "# finally:\n",
    "#     pass\n",
    "#     driver.quit()"
   ]
  },
  {
   "cell_type": "code",
   "execution_count": 9,
   "id": "94736c16-c9e8-4c87-8993-4c44e058ae66",
   "metadata": {},
   "outputs": [],
   "source": [
    "from src import selenbeau"
   ]
  },
  {
   "cell_type": "code",
   "execution_count": 12,
   "id": "d00ec9f5-ea62-482a-83a0-e655a48fa447",
   "metadata": {},
   "outputs": [
    {
     "data": {
      "text/plain": [
       "<module 'src.selenbeau' from 'C:\\\\Users\\\\uthop\\\\notebooks\\\\tasks\\\\250623_WikiLists\\\\src\\\\selenbeau.py'>"
      ]
     },
     "execution_count": 12,
     "metadata": {},
     "output_type": "execute_result"
    }
   ],
   "source": [
    "importlib.reload(selenbeau)"
   ]
  },
  {
   "cell_type": "code",
   "execution_count": 13,
   "id": "87c22220-3501-4a9b-a31e-56f097f90136",
   "metadata": {},
   "outputs": [],
   "source": [
    "# import requests\n",
    "# from bs4 import BeautifulSoup\n",
    "\n",
    "# url = \"https://www.wikidata.org/wiki/Q15873\"\n",
    "\n",
    "# # Fetch the HTML\n",
    "# response = requests.get(url)\n",
    "# soup = BeautifulSoup(response.text, \"html.parser\")\n",
    "\n",
    "# # Step 1: Find all label elements\n",
    "# labels = soup.find_all(\"div\", class_=\"wikibase-statementgroupview-property-label\")\n",
    "\n",
    "# for label in labels:\n",
    "#     if label.text.strip().lower() == \"date of birth\":\n",
    "#         # Step 2: Get the parent container\n",
    "#         parent = label.find_parent(\"div\", class_=\"wikibase-statementgroupview\")\n",
    "\n",
    "#         # Step 3: Find the value inside this parent\n",
    "#         value = parent.find(\"div\", class_=\"wikibase-snakview-value wikibase-snakview-variation-valuesnak\")\n",
    "#         if value:\n",
    "#             print(\"Date of birth:\", value.text.strip())\n",
    "#         else:\n",
    "#             print(\"Date of birth value not found\")\n",
    "#         break\n"
   ]
  },
  {
   "cell_type": "code",
   "execution_count": 14,
   "id": "50e7ecfd-cb8b-4386-8050-b1dc99cd6ad7",
   "metadata": {},
   "outputs": [],
   "source": [
    "# selenbeau.get_dob_from_wikidata(fmid)"
   ]
  },
  {
   "cell_type": "markdown",
   "id": "1d4dd45a-fa52-49c1-865b-c529f5700b23",
   "metadata": {},
   "source": [
    "# Main Process"
   ]
  },
  {
   "cell_type": "code",
   "execution_count": 10,
   "id": "d33a5f8f-c3b8-408c-b10b-80cfc165a973",
   "metadata": {},
   "outputs": [],
   "source": [
    "from src import selenbeau\n",
    "import urllib.parse"
   ]
  },
  {
   "cell_type": "code",
   "execution_count": 11,
   "id": "bbaf0b78-2720-43a5-8bdc-f6d41e192aac",
   "metadata": {},
   "outputs": [
    {
     "data": {
      "text/plain": [
       "<module 'src.selenbeau' from 'C:\\\\Users\\\\uthop\\\\notebooks\\\\tasks\\\\250623_WikiLists\\\\src\\\\selenbeau.py'>"
      ]
     },
     "execution_count": 11,
     "metadata": {},
     "output_type": "execute_result"
    }
   ],
   "source": [
    "importlib.reload(selenbeau)"
   ]
  },
  {
   "cell_type": "code",
   "execution_count": 12,
   "id": "c2ca5a04-dbfe-4f2a-8a37-a9ab168c406b",
   "metadata": {},
   "outputs": [],
   "source": [
    "def get_page_name(url):\n",
    "    page_name = url.replace('https://en.wikipedia.org/wiki/','')\n",
    "    page_name = page_name.replace('_',' ')\n",
    "    page_name = urllib.parse.unquote(page_name)\n",
    "    if ':' in page_name:\n",
    "        return None\n",
    "    return page_name"
   ]
  },
  {
   "cell_type": "code",
   "execution_count": 13,
   "id": "eadf81cd-10f0-49b9-94f9-b2056f1bf1cd",
   "metadata": {},
   "outputs": [],
   "source": [
    "try:\n",
    "    with open(load_path, 'rb') as f:\n",
    "        people_dob = pickle.load(f)\n",
    "    errors = list()\n",
    "except:\n",
    "    people_dob = dict()\n",
    "    errors = list()"
   ]
  },
  {
   "cell_type": "code",
   "execution_count": 14,
   "id": "6e76692a-7509-4097-8d35-939585b94b84",
   "metadata": {},
   "outputs": [],
   "source": [
    "import concurrent.futures"
   ]
  },
  {
   "cell_type": "code",
   "execution_count": 15,
   "id": "9b250c13-bc43-4478-a943-04c2e9b33501",
   "metadata": {},
   "outputs": [],
   "source": [
    "def process_url(url):\n",
    "    if url in people_dob:\n",
    "        return None\n",
    "    tracer = {'url': url}\n",
    "    page_name = get_page_name(url)\n",
    "    if page_name is None:\n",
    "        return None\n",
    "    tracer['page_name'] = page_name\n",
    "    try:\n",
    "        page_id = selenbeau.get_wiki_id_from_page_title(page_title=page_name, open_browser=False)\n",
    "        tracer['page_id'] = page_id\n",
    "        dob = selenbeau.get_dob_from_wikidata(page_id)\n",
    "        tracer['dob'] = dob\n",
    "        return tracer\n",
    "    except Exception:\n",
    "        errors.append(tracer)\n",
    "        return None"
   ]
  },
  {
   "cell_type": "code",
   "execution_count": 16,
   "id": "3c0add95-95d0-4080-a8be-414e6b7fc6bd",
   "metadata": {},
   "outputs": [],
   "source": [
    "china_people_dob_path = os.path.join('data', 'outputs', 'walk_wiki', 'china_people_dob.pickle')\n",
    "processed_core_urls_path = os.path.join('data', 'outputs', 'walk_wiki', 'core_urls_processed.pickle')"
   ]
  },
  {
   "cell_type": "code",
   "execution_count": 17,
   "id": "a5ebde29-94b9-4fda-8deb-deec59ffa6b2",
   "metadata": {},
   "outputs": [],
   "source": [
    "with open(china_people_dob_path, 'rb') as f:\n",
    "    people_dob = pickle.load(f)\n",
    "\n",
    "with open(processed_core_urls_path, 'rb') as f:\n",
    "    core_urls_processed = pickle.load(f)"
   ]
  },
  {
   "cell_type": "code",
   "execution_count": 18,
   "id": "a0794483-05e8-49d8-9e32-815ea2c4669f",
   "metadata": {},
   "outputs": [
    {
     "name": "stderr",
     "output_type": "stream",
     "text": [
      "https://en.wikipedia.org/wiki/List_of_Chinese_by_net_worth: 100%|████████████████████| 312/312 [41:49<00:00,  8.04s/it]\n"
     ]
    }
   ],
   "source": [
    "for core_url in core_urls:\n",
    "    inner_urls = extract_people_links(core_url)\n",
    "    if core_url in core_urls_processed:\n",
    "        continue\n",
    "    with concurrent.futures.ThreadPoolExecutor(max_workers=10) as executor:\n",
    "        results = list(tqdm.tqdm(executor.map(process_url, inner_urls), total=len(inner_urls), desc=core_url))\n",
    "\n",
    "    for result in results:\n",
    "        if result:\n",
    "            people_dob[result['url']] = result\n",
    "\n",
    "    core_urls_processed.append(core_url)\n",
    "    \n",
    "    with open(china_people_dob_path, 'wb') as f:\n",
    "        pickle.dump(people_dob, f)\n",
    "        \n",
    "    with open(processed_core_urls_path, 'wb') as f:\n",
    "        pickle.dump(core_urls_processed, f)"
   ]
  },
  {
   "cell_type": "code",
   "execution_count": 23,
   "id": "de03cb91-6cd4-4f41-98a8-dffadfb9791e",
   "metadata": {},
   "outputs": [],
   "source": [
    "hah = pd.DataFrame(list(people_dob.values()))"
   ]
  },
  {
   "cell_type": "code",
   "execution_count": 37,
   "id": "ac251c1f-2596-4e68-8093-5ecba698307a",
   "metadata": {},
   "outputs": [
    {
     "data": {
      "text/html": [
       "<div>\n",
       "<style scoped>\n",
       "    .dataframe tbody tr th:only-of-type {\n",
       "        vertical-align: middle;\n",
       "    }\n",
       "\n",
       "    .dataframe tbody tr th {\n",
       "        vertical-align: top;\n",
       "    }\n",
       "\n",
       "    .dataframe thead th {\n",
       "        text-align: right;\n",
       "    }\n",
       "</style>\n",
       "<table border=\"1\" class=\"dataframe\">\n",
       "  <thead>\n",
       "    <tr style=\"text-align: right;\">\n",
       "      <th></th>\n",
       "      <th>url</th>\n",
       "      <th>page_name</th>\n",
       "      <th>page_id</th>\n",
       "      <th>dob</th>\n",
       "    </tr>\n",
       "  </thead>\n",
       "  <tbody>\n",
       "    <tr>\n",
       "      <th>3</th>\n",
       "      <td>https://en.wikipedia.org/wiki/Li_Di</td>\n",
       "      <td>Li Di</td>\n",
       "      <td>Q27527265</td>\n",
       "      <td>15 December 1999</td>\n",
       "    </tr>\n",
       "    <tr>\n",
       "      <th>4</th>\n",
       "      <td>https://en.wikipedia.org/wiki/Zhou_Chengzhou</td>\n",
       "      <td>Zhou Chengzhou</td>\n",
       "      <td>Q105721640</td>\n",
       "      <td>28 December 1982</td>\n",
       "    </tr>\n",
       "    <tr>\n",
       "      <th>14</th>\n",
       "      <td>https://en.wikipedia.org/wiki/Xin_Fengxia</td>\n",
       "      <td>Xin Fengxia</td>\n",
       "      <td>Q8263391</td>\n",
       "      <td>26 January 1927Gregorian</td>\n",
       "    </tr>\n",
       "    <tr>\n",
       "      <th>16</th>\n",
       "      <td>https://en.wikipedia.org/wiki/He_Xiangning</td>\n",
       "      <td>He Xiangning</td>\n",
       "      <td>Q8248830</td>\n",
       "      <td>27 June 1878Gregorian</td>\n",
       "    </tr>\n",
       "    <tr>\n",
       "      <th>24</th>\n",
       "      <td>https://en.wikipedia.org/wiki/Aowen_Jin</td>\n",
       "      <td>Aowen Jin</td>\n",
       "      <td>Q18688034</td>\n",
       "      <td>July 1978</td>\n",
       "    </tr>\n",
       "    <tr>\n",
       "      <th>...</th>\n",
       "      <td>...</td>\n",
       "      <td>...</td>\n",
       "      <td>...</td>\n",
       "      <td>...</td>\n",
       "    </tr>\n",
       "    <tr>\n",
       "      <th>1528</th>\n",
       "      <td>https://en.wikipedia.org/wiki/Zhao_Leji</td>\n",
       "      <td>Zhao Leji</td>\n",
       "      <td>Q127295</td>\n",
       "      <td>8 March 1957</td>\n",
       "    </tr>\n",
       "    <tr>\n",
       "      <th>1551</th>\n",
       "      <td>https://en.wikipedia.org/wiki/Wang_Xiaohong</td>\n",
       "      <td>Wang Xiaohong</td>\n",
       "      <td>Q18109475</td>\n",
       "      <td>11 July 1957</td>\n",
       "    </tr>\n",
       "    <tr>\n",
       "      <th>1562</th>\n",
       "      <td>https://en.wikipedia.org/wiki/Shi_Taifeng</td>\n",
       "      <td>Shi Taifeng</td>\n",
       "      <td>Q8292435</td>\n",
       "      <td>September 1956</td>\n",
       "    </tr>\n",
       "    <tr>\n",
       "      <th>1569</th>\n",
       "      <td>https://en.wikipedia.org/wiki/Chen_Wenqing</td>\n",
       "      <td>Chen Wenqing</td>\n",
       "      <td>Q8340313</td>\n",
       "      <td>January 1960</td>\n",
       "    </tr>\n",
       "    <tr>\n",
       "      <th>1573</th>\n",
       "      <td>https://en.wikipedia.org/wiki/Cai_Qi</td>\n",
       "      <td>Cai Qi</td>\n",
       "      <td>Q3370201</td>\n",
       "      <td>5 December 1955</td>\n",
       "    </tr>\n",
       "  </tbody>\n",
       "</table>\n",
       "<p>276 rows × 4 columns</p>\n",
       "</div>"
      ],
      "text/plain": [
       "                                               url       page_name  \\\n",
       "3              https://en.wikipedia.org/wiki/Li_Di           Li Di   \n",
       "4     https://en.wikipedia.org/wiki/Zhou_Chengzhou  Zhou Chengzhou   \n",
       "14       https://en.wikipedia.org/wiki/Xin_Fengxia     Xin Fengxia   \n",
       "16      https://en.wikipedia.org/wiki/He_Xiangning    He Xiangning   \n",
       "24         https://en.wikipedia.org/wiki/Aowen_Jin       Aowen Jin   \n",
       "...                                            ...             ...   \n",
       "1528       https://en.wikipedia.org/wiki/Zhao_Leji       Zhao Leji   \n",
       "1551   https://en.wikipedia.org/wiki/Wang_Xiaohong   Wang Xiaohong   \n",
       "1562     https://en.wikipedia.org/wiki/Shi_Taifeng     Shi Taifeng   \n",
       "1569    https://en.wikipedia.org/wiki/Chen_Wenqing    Chen Wenqing   \n",
       "1573          https://en.wikipedia.org/wiki/Cai_Qi          Cai Qi   \n",
       "\n",
       "         page_id                       dob  \n",
       "3      Q27527265          15 December 1999  \n",
       "4     Q105721640          28 December 1982  \n",
       "14      Q8263391  26 January 1927Gregorian  \n",
       "16      Q8248830     27 June 1878Gregorian  \n",
       "24     Q18688034                 July 1978  \n",
       "...          ...                       ...  \n",
       "1528     Q127295              8 March 1957  \n",
       "1551   Q18109475              11 July 1957  \n",
       "1562    Q8292435            September 1956  \n",
       "1569    Q8340313              January 1960  \n",
       "1573    Q3370201           5 December 1955  \n",
       "\n",
       "[276 rows x 4 columns]"
      ]
     },
     "execution_count": 37,
     "metadata": {},
     "output_type": "execute_result"
    }
   ],
   "source": [
    "hah[(hah['page_id'].str.startswith('Q')) & (hah['dob'].str.len()>4)]"
   ]
  }
 ],
 "metadata": {
  "kernelspec": {
   "display_name": "Python: ds-gen",
   "language": "python",
   "name": "ds-gen"
  },
  "language_info": {
   "codemirror_mode": {
    "name": "ipython",
    "version": 3
   },
   "file_extension": ".py",
   "mimetype": "text/x-python",
   "name": "python",
   "nbconvert_exporter": "python",
   "pygments_lexer": "ipython3",
   "version": "3.12.7"
  }
 },
 "nbformat": 4,
 "nbformat_minor": 5
}
