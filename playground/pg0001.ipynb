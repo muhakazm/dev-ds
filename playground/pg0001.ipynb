{
 "cells": [
  {
   "cell_type": "code",
   "execution_count": 6,
   "id": "718157d9-3cc4-49e3-82d6-6f8532564aa1",
   "metadata": {},
   "outputs": [],
   "source": [
    "import os\n",
    "import pandas as pd\n",
    "import numpy as np"
   ]
  },
  {
   "cell_type": "code",
   "execution_count": 2,
   "id": "87c2653e-077b-40c8-bdd1-5fb3e8f6a4ba",
   "metadata": {},
   "outputs": [],
   "source": [
    "path = os.path.join('data', 'weatherAUS.csv')\n",
    "weather_aus = pd.read_csv(path)"
   ]
  },
  {
   "cell_type": "code",
   "execution_count": 4,
   "id": "bed7c161-dc87-4fe9-b278-32ad9e4e5ddb",
   "metadata": {},
   "outputs": [],
   "source": [
    "weather_aus['LocationAus'] = weather_aus['Location'] + ', Australia'"
   ]
  },
  {
   "cell_type": "code",
   "execution_count": 7,
   "id": "dc8ae509-8cd3-403b-a291-663a0d520dc2",
   "metadata": {},
   "outputs": [],
   "source": [
    "weather_aus['RainConsecutive'] = np.where(\n",
    "    (weather_aus['RainToday'].str.upper() == 'YES') & (weather_aus['RainTomorrow'].str.upper() == 'YES'),\n",
    "    'Consecutive Rain',\n",
    "    np.where(\n",
    "        (weather_aus['RainToday'].str.upper() == 'NO') & (weather_aus['RainTomorrow'].str.upper() == 'NO'),\n",
    "        'Consecutive No Rain',\n",
    "        '---'\n",
    "    )\n",
    ")"
   ]
  },
  {
   "cell_type": "code",
   "execution_count": 9,
   "id": "ccc34bc4-1015-4007-859c-55abdd2684f8",
   "metadata": {},
   "outputs": [],
   "source": [
    "weather_aus['RainTomorrowNoNum'] = np.where(\n",
    "    weather_aus['RainTomorrow'].str.upper() == 'NO',\n",
    "    1,\n",
    "    0\n",
    ")"
   ]
  },
  {
   "cell_type": "code",
   "execution_count": 10,
   "id": "f44b993d-d083-4de4-9844-7b76d1b216a9",
   "metadata": {},
   "outputs": [],
   "source": [
    "weather_aus['RainTomorrowYesNum'] = np.where(\n",
    "    weather_aus['RainTomorrow'].str.upper() == 'YES',\n",
    "    1,\n",
    "    0\n",
    ")"
   ]
  },
  {
   "cell_type": "code",
   "execution_count": 14,
   "id": "2425d0c8-e416-438f-a2f7-0eb886ccdd61",
   "metadata": {},
   "outputs": [],
   "source": [
    "path2 = os.path.join('data', 'weatherAUS_altered.csv')"
   ]
  },
  {
   "cell_type": "code",
   "execution_count": 15,
   "id": "fdcb8960-6c50-4b11-bab3-da59e49a36d8",
   "metadata": {},
   "outputs": [],
   "source": [
    "weather_aus.to_csv(path2)"
   ]
  }
 ],
 "metadata": {
  "kernelspec": {
   "display_name": "Python: ds-gen",
   "language": "python",
   "name": "ds-gen"
  },
  "language_info": {
   "codemirror_mode": {
    "name": "ipython",
    "version": 3
   },
   "file_extension": ".py",
   "mimetype": "text/x-python",
   "name": "python",
   "nbconvert_exporter": "python",
   "pygments_lexer": "ipython3",
   "version": "3.12.7"
  }
 },
 "nbformat": 4,
 "nbformat_minor": 5
}
