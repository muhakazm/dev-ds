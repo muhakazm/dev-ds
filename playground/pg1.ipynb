{
 "cells": [
  {
   "cell_type": "code",
   "execution_count": 1,
   "id": "b804ae64-1eb5-49b5-a24d-abe0640e1c40",
   "metadata": {},
   "outputs": [],
   "source": [
    "import pandas as pd"
   ]
  },
  {
   "cell_type": "code",
   "execution_count": 5,
   "id": "cfacca95-83cd-41fd-85cd-30bbb047b4bf",
   "metadata": {},
   "outputs": [],
   "source": [
    "# read excel data\n",
    "my_df = pd.DataFrame({\n",
    "    \"col_1\": [1,2,3,4,5]\n",
    "    ,\"col_2\": ['a','b','c','d','a']\n",
    "})"
   ]
  },
  {
   "cell_type": "code",
   "execution_count": 8,
   "id": "bcca793d-4de5-4bd2-90ed-f71fe15b091d",
   "metadata": {},
   "outputs": [
    {
     "data": {
      "text/plain": [
       "[{'col_1': 1, 'col_2': 'a'},\n",
       " {'col_1': 2, 'col_2': 'b'},\n",
       " {'col_1': 3, 'col_2': 'c'},\n",
       " {'col_1': 4, 'col_2': 'd'},\n",
       " {'col_1': 5, 'col_2': 'a'}]"
      ]
     },
     "execution_count": 8,
     "metadata": {},
     "output_type": "execute_result"
    }
   ],
   "source": [
    "my_records = my_df.to_dict(orient='records')"
   ]
  }
 ],
 "metadata": {
  "kernelspec": {
   "display_name": "python:ds-gen",
   "language": "python",
   "name": "ds-gen"
  },
  "language_info": {
   "codemirror_mode": {
    "name": "ipython",
    "version": 3
   },
   "file_extension": ".py",
   "mimetype": "text/x-python",
   "name": "python",
   "nbconvert_exporter": "python",
   "pygments_lexer": "ipython3",
   "version": "3.12.3"
  }
 },
 "nbformat": 4,
 "nbformat_minor": 5
}
