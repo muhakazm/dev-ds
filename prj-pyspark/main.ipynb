{
 "cells": [
  {
   "cell_type": "markdown",
   "id": "d8b44565-2a64-4ae0-89bd-2975b0822a5c",
   "metadata": {},
   "source": [
    "# [Spark and Python for Big Data with PySpark](https://www.udemy.com/course/spark-and-python-for-big-data-with-pyspark)\n",
    "A Udemy Course"
   ]
  },
  {
   "cell_type": "markdown",
   "id": "7e46a463-b326-4668-bf46-707d482be94f",
   "metadata": {},
   "source": [
    "Why use spark? local computer handles 0-32 GB, depending on RAM. What if we have a larger set of data?\n",
    "- can try SQL database to move storage onto hard drive instead of RAM\n",
    "- or use distributed system, that distributes the data to multiple machines/computer"
   ]
  },
  {
   "cell_type": "markdown",
   "id": "c308724a-d3b6-47a3-886c-c507bea6e5e2",
   "metadata": {},
   "source": [
    "Hadoop\n",
    "- is a way to distribute very large files across multiple machines\n",
    "- it uses Hadoop Distributed File System (HDFS)\n",
    "- HDFS allows a user to work with large data sets\n",
    "- HDFS also duplicates blocks of data for fault tolerance\n",
    "- it also then uses MapReduce\n",
    "- MapReduce allows computations on that data"
   ]
  }
 ],
 "metadata": {
  "kernelspec": {
   "display_name": "Python: ds-gen",
   "language": "python",
   "name": "ds-gen"
  },
  "language_info": {
   "codemirror_mode": {
    "name": "ipython",
    "version": 3
   },
   "file_extension": ".py",
   "mimetype": "text/x-python",
   "name": "python",
   "nbconvert_exporter": "python",
   "pygments_lexer": "ipython3",
   "version": "3.12.7"
  }
 },
 "nbformat": 4,
 "nbformat_minor": 5
}
